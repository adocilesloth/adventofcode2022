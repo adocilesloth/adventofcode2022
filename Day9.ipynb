{
 "cells": [
  {
   "cell_type": "code",
   "execution_count": 1,
   "metadata": {},
   "outputs": [],
   "source": [
    "from collections import defaultdict"
   ]
  },
  {
   "cell_type": "markdown",
   "metadata": {},
   "source": [
    "# Part 1"
   ]
  },
  {
   "cell_type": "code",
   "execution_count": 2,
   "metadata": {},
   "outputs": [],
   "source": [
    "test = ['R 4',\n",
    "        'U 4',\n",
    "        'L 3',\n",
    "        'D 1',\n",
    "        'R 4',\n",
    "        'D 1',\n",
    "        'L 5',\n",
    "        'R 2']"
   ]
  },
  {
   "cell_type": "code",
   "execution_count": 3,
   "metadata": {},
   "outputs": [],
   "source": [
    "def track_tail(data, num_knots):\n",
    "    knots = []\n",
    "    for i in range(0, num_knots):\n",
    "        knots.append([0,0])\n",
    "    tail_pos = defaultdict(int)\n",
    "    tail_pos[(0,0)] += 1\n",
    "    \n",
    "    for line in data:\n",
    "        #print(line)\n",
    "        line = line.split(' ')\n",
    "        drc = line[0]\n",
    "        dst = int(line[-1])\n",
    "        \n",
    "        for d in range(1, dst+1):\n",
    "            if drc == 'R':\n",
    "                knots[0][0] += 1\n",
    "            elif drc == 'L':\n",
    "                knots[0][0] -= 1\n",
    "            elif drc == 'U':\n",
    "                knots[0][1] += 1\n",
    "            elif drc == 'D':\n",
    "                knots[0][1] -= 1\n",
    "            else:\n",
    "                print(drc)\n",
    "\n",
    "            continue_sim = True\n",
    "            while continue_sim:\n",
    "                continue_sim = False\n",
    "                for k in range(1, num_knots):\n",
    "                    dx = knots[k-1][0] - knots[k][0]\n",
    "                    dy = knots[k-1][1] - knots[k][1]\n",
    "                    \n",
    "                    if dx > 1:\n",
    "                        knots[k][0] += 1\n",
    "                        if dy == 1:\n",
    "                            knots[k][1] += 1\n",
    "                        elif dy == -1:\n",
    "                            knots[k][1] -= 1\n",
    "                    elif dx < -1:\n",
    "                        knots[k][0] -= 1\n",
    "                        if dy == 1:\n",
    "                            knots[k][1] += 1\n",
    "                        elif dy == -1:\n",
    "                            knots[k][1] -= 1\n",
    "\n",
    "                    if dy > 1:\n",
    "                        knots[k][1] += 1\n",
    "                        if dx == 1:\n",
    "                            knots[k][0] += 1\n",
    "                        elif dx == -1:\n",
    "                            knots[k][0] -= 1\n",
    "                    elif dy < -1:\n",
    "                        knots[k][1] -= 1\n",
    "                        if dx == 1:\n",
    "                            knots[k][0] += 1\n",
    "                        elif dx == -1:\n",
    "                            knots[k][0] -= 1\n",
    "                    #print(knots[0], knots[-1], dx, dy)\n",
    "\n",
    "                    dx = knots[k-1][0] - knots[k][0]\n",
    "                    dy = knots[k-1][1] - knots[k][1]\n",
    "\n",
    "                    if abs(dx) > 1 or abs(dy) > 1:\n",
    "                        continue_sim = True\n",
    "                    \n",
    "            tail_pos[(knots[-1][0],knots[-1][1])] += 1\n",
    "    return tail_pos\n",
    "\n",
    "def count_tail_pos(tail_pos):\n",
    "    count = 0\n",
    "    for k,v in tail_pos.items():\n",
    "        count += 1\n",
    "    return count\n",
    "\n",
    "def run(data, knots):\n",
    "    tail_pos = track_tail(data, knots)\n",
    "    return count_tail_pos(tail_pos)"
   ]
  },
  {
   "cell_type": "code",
   "execution_count": 4,
   "metadata": {},
   "outputs": [
    {
     "name": "stdout",
     "output_type": "stream",
     "text": [
      "13\n"
     ]
    }
   ],
   "source": [
    "print(run(test,2))"
   ]
  },
  {
   "cell_type": "code",
   "execution_count": 5,
   "metadata": {},
   "outputs": [],
   "source": [
    "with open('day9_input.txt', 'r') as f:\n",
    "    inpt = f.readlines()\n",
    "    f.close()"
   ]
  },
  {
   "cell_type": "code",
   "execution_count": 6,
   "metadata": {},
   "outputs": [
    {
     "name": "stdout",
     "output_type": "stream",
     "text": [
      "Part 1 result: 5619\n"
     ]
    }
   ],
   "source": [
    "print('Part 1 result:', run(inpt,2))"
   ]
  },
  {
   "cell_type": "markdown",
   "metadata": {},
   "source": [
    "# Part 2"
   ]
  },
  {
   "cell_type": "code",
   "execution_count": 7,
   "metadata": {},
   "outputs": [
    {
     "name": "stdout",
     "output_type": "stream",
     "text": [
      "1\n"
     ]
    }
   ],
   "source": [
    "print(run(test,10))"
   ]
  },
  {
   "cell_type": "code",
   "execution_count": 8,
   "metadata": {},
   "outputs": [
    {
     "name": "stdout",
     "output_type": "stream",
     "text": [
      "36\n"
     ]
    }
   ],
   "source": [
    "test2 = ['R 5',\n",
    "         'U 8',\n",
    "         'L 8',\n",
    "         'D 3',\n",
    "         'R 17',\n",
    "         'D 10',\n",
    "         'L 25',\n",
    "         'U 20']\n",
    "print(run(test2,10))"
   ]
  },
  {
   "cell_type": "code",
   "execution_count": 9,
   "metadata": {},
   "outputs": [
    {
     "name": "stdout",
     "output_type": "stream",
     "text": [
      "Part 2 result: 2376\n"
     ]
    }
   ],
   "source": [
    "print('Part 2 result:', run(inpt,10))"
   ]
  },
  {
   "cell_type": "code",
   "execution_count": null,
   "metadata": {},
   "outputs": [],
   "source": []
  }
 ],
 "metadata": {
  "kernelspec": {
   "display_name": "Python 3",
   "language": "python",
   "name": "python3"
  },
  "language_info": {
   "codemirror_mode": {
    "name": "ipython",
    "version": 3
   },
   "file_extension": ".py",
   "mimetype": "text/x-python",
   "name": "python",
   "nbconvert_exporter": "python",
   "pygments_lexer": "ipython3",
   "version": "3.7.4"
  }
 },
 "nbformat": 4,
 "nbformat_minor": 2
}
