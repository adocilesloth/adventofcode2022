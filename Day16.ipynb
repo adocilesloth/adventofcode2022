{
 "cells": [
  {
   "cell_type": "code",
   "execution_count": 1,
   "metadata": {},
   "outputs": [],
   "source": [
    "from collections import deque\n",
    "from copy import deepcopy\n",
    "from itertools import combinations, permutations"
   ]
  },
  {
   "cell_type": "markdown",
   "metadata": {},
   "source": [
    "# Part 1"
   ]
  },
  {
   "cell_type": "code",
   "execution_count": 2,
   "metadata": {},
   "outputs": [],
   "source": [
    "test = ['Valve AA has flow rate=0; tunnels lead to valves DD, II, BB',\n",
    "        'Valve BB has flow rate=13; tunnels lead to valves CC, AA',\n",
    "        'Valve CC has flow rate=2; tunnels lead to valves DD, BB',\n",
    "        'Valve DD has flow rate=20; tunnels lead to valves CC, AA, EE',\n",
    "        'Valve EE has flow rate=3; tunnels lead to valves FF, DD',\n",
    "        'Valve FF has flow rate=0; tunnels lead to valves EE, GG',\n",
    "        'Valve GG has flow rate=0; tunnels lead to valves FF, HH',\n",
    "        'Valve HH has flow rate=22; tunnel leads to valve GG',\n",
    "        'Valve II has flow rate=0; tunnels lead to valves AA, JJ',\n",
    "        'Valve JJ has flow rate=21; tunnel leads to valve II']"
   ]
  },
  {
   "cell_type": "code",
   "execution_count": 3,
   "metadata": {},
   "outputs": [],
   "source": [
    "def generate_graph(data):\n",
    "    graph = {}\n",
    "    for line in data:\n",
    "        line = line.strip().split()\n",
    "        name = line[1]\n",
    "        flow_rate = int(line[4][5:-1])\n",
    "        connections = []\n",
    "        for i in range(9, len(line)):\n",
    "            connections.append(line[i][:2])\n",
    "        graph[name] = [flow_rate, connections]\n",
    "    return graph\n",
    "\n",
    "#Breadth-First Search\n",
    "def BFS(graph, start):\n",
    "    queue = deque([start])\n",
    "    dist = {start: 0}\n",
    "    tgt_dist = {}\n",
    "    \n",
    "    while len(queue):\n",
    "        cur_pos = queue.popleft()\n",
    "        cur_dist = dist[cur_pos]\n",
    "        nxt_dist = cur_dist + 1\n",
    "        \n",
    "        for nxt_pos in graph[cur_pos][1]:\n",
    "            if nxt_pos not in dist.keys():\n",
    "                queue.append(nxt_pos)\n",
    "                dist[nxt_pos] = nxt_dist\n",
    "            if graph[nxt_pos][0] > 0 and nxt_pos not in tgt_dist.keys():\n",
    "                tgt_dist[nxt_pos] = nxt_dist\n",
    "                \n",
    "    return tgt_dist\n",
    "\n",
    "def reduce_graph(graph):\n",
    "    start = 'AA'\n",
    "    new_graph = {}\n",
    "    new_graph[start] = [graph[start][0], BFS(graph, start)]\n",
    "    valves = new_graph[start][1].keys()\n",
    "    for valve in valves:\n",
    "        new_graph[valve] = [graph[valve][0], BFS(graph, valve)]\n",
    "    return new_graph\n",
    "    \n",
    "def DFS(graph, start, discovered, dt, t, flow_rate, flow, all_flows):\n",
    "    discovered.append(start)\n",
    "    \n",
    "    if start != 'AA':\n",
    "        if t+dt+1 > 30:\n",
    "            flow += (30-t)*flow_rate\n",
    "            all_flows.append(flow)\n",
    "            return\n",
    "        flow += (dt+1)*flow_rate\n",
    "        t += dt+1\n",
    "        flow_rate += graph[start][0]\n",
    "    \n",
    "    count = len(list(graph[start][1].keys()))\n",
    "    for nxt_pos in list(graph[start][1].keys()):\n",
    "        if nxt_pos not in discovered:\n",
    "            DFS(graph, nxt_pos, deepcopy(discovered), \n",
    "                graph[start][1][nxt_pos], deepcopy(t), \n",
    "                deepcopy(flow_rate), deepcopy(flow), all_flows)\n",
    "        else:\n",
    "            count -= 1\n",
    "            \n",
    "    if count == 0:\n",
    "        flow += (30-t)*flow_rate\n",
    "        all_flows.append(flow)\n",
    "    return\n",
    "\n",
    "def run_part1(data):\n",
    "    graph = generate_graph(data)\n",
    "    graph = reduce_graph(graph)\n",
    "    all_flows = []\n",
    "    DFS(graph, 'AA', [], 0, 0, 0, 0, all_flows)\n",
    "    print('Part 1 result:', max(all_flows))"
   ]
  },
  {
   "cell_type": "code",
   "execution_count": 4,
   "metadata": {},
   "outputs": [
    {
     "name": "stdout",
     "output_type": "stream",
     "text": [
      "Part 1 result: 1651\n"
     ]
    }
   ],
   "source": [
    "run_part1(test)"
   ]
  },
  {
   "cell_type": "code",
   "execution_count": 5,
   "metadata": {},
   "outputs": [
    {
     "name": "stdout",
     "output_type": "stream",
     "text": [
      "Part 1 result: 2265\n"
     ]
    }
   ],
   "source": [
    "with open('day16_input.txt', 'r') as f:\n",
    "    inpt = f.readlines()\n",
    "    f.close()\n",
    "run_part1(inpt)"
   ]
  },
  {
   "cell_type": "markdown",
   "metadata": {},
   "source": [
    "# Part 2"
   ]
  },
  {
   "cell_type": "code",
   "execution_count": 6,
   "metadata": {},
   "outputs": [],
   "source": [
    "def DFS2(graph, start, discovered, dt, t, flow_rate, flow, all_flows, path, future):\n",
    "    discovered.append(start)\n",
    "    path.append(start)\n",
    "    \n",
    "    if start != 'AA':\n",
    "        if t+dt+1 >= 26:\n",
    "            flow += (26-t)*flow_rate\n",
    "            all_flows.append(flow)\n",
    "            return\n",
    "        flow += (dt+1)*flow_rate\n",
    "        t += dt+1\n",
    "        flow_rate += graph[start][0]\n",
    "        \n",
    "        if (tuple(path[1:]) in future.keys() and flow + ((26-t)*flow_rate) > future[tuple(path[1:])]):\n",
    "            future[tuple(path[1:])] = flow + ((26-t)*flow_rate)\n",
    "        elif tuple(path[1:]) not in future.keys():\n",
    "            future[tuple(path[1:])] = flow + ((26-t)*flow_rate)\n",
    "    \n",
    "    count = len(list(graph[start][1].keys()))\n",
    "    for nxt_pos in list(graph[start][1].keys()):\n",
    "        if nxt_pos not in discovered:\n",
    "            DFS2(graph, nxt_pos, deepcopy(discovered), \n",
    "                 graph[start][1][nxt_pos], deepcopy(t), \n",
    "                 deepcopy(flow_rate), deepcopy(flow), all_flows,\n",
    "                 deepcopy(path), future)\n",
    "        else:\n",
    "            count -= 1\n",
    "            \n",
    "    if count == 0:\n",
    "        flow += (26-t)*flow_rate\n",
    "        all_flows.append(flow)\n",
    "    return\n",
    "\n",
    "def two_player(graph, future, limit):\n",
    "    flow = 0\n",
    "    nodes = list(graph.keys())\n",
    "    nodes.remove('AA')\n",
    "    \n",
    "    key_list = list(future.keys())\n",
    "    for key in key_list:\n",
    "        if len(key) == len(nodes):\n",
    "            del future[key]\n",
    "            continue\n",
    "    \n",
    "    key_list = sorted(future, key=future.get, reverse=True)\n",
    "    if len(key_list) > 2000:\n",
    "        key_list = key_list[:2000]\n",
    "                \n",
    "    for max_key in key_list:\n",
    "        maxi = future[max_key]\n",
    "        \n",
    "        other_nodes = deepcopy(nodes)\n",
    "        for c in max_key:\n",
    "            other_nodes.remove(c)\n",
    "        for i in range(1, len(other_nodes)+1):\n",
    "            for co in combinations(other_nodes, i):\n",
    "                if co not in future.keys():\n",
    "                    continue\n",
    "                if maxi+future[co] > flow:\n",
    "                    flow = maxi+future[co]\n",
    "                \n",
    "    return flow\n",
    "        \n",
    "def run_part2(data):\n",
    "    graph = generate_graph(data)\n",
    "    graph = reduce_graph(graph)\n",
    "    all_flows = []\n",
    "    future = {}\n",
    "    DFS2(graph, 'AA', [], 0, 0, 0, 0, all_flows, [], future)   \n",
    "    print('Part 2 result:', two_player(graph, future, max(all_flows))) "
   ]
  },
  {
   "cell_type": "code",
   "execution_count": 7,
   "metadata": {},
   "outputs": [
    {
     "name": "stdout",
     "output_type": "stream",
     "text": [
      "Part 2 result: 1706\n"
     ]
    }
   ],
   "source": [
    "run_part2(test)"
   ]
  },
  {
   "cell_type": "code",
   "execution_count": 8,
   "metadata": {},
   "outputs": [
    {
     "name": "stdout",
     "output_type": "stream",
     "text": [
      "Part 2 result: 2811\n"
     ]
    }
   ],
   "source": [
    "run_part2(inpt)"
   ]
  },
  {
   "cell_type": "code",
   "execution_count": null,
   "metadata": {},
   "outputs": [],
   "source": []
  }
 ],
 "metadata": {
  "kernelspec": {
   "display_name": "Python 3",
   "language": "python",
   "name": "python3"
  },
  "language_info": {
   "codemirror_mode": {
    "name": "ipython",
    "version": 3
   },
   "file_extension": ".py",
   "mimetype": "text/x-python",
   "name": "python",
   "nbconvert_exporter": "python",
   "pygments_lexer": "ipython3",
   "version": "3.8.5"
  }
 },
 "nbformat": 4,
 "nbformat_minor": 2
}
