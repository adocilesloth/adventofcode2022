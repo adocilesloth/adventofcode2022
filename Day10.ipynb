{
 "cells": [
  {
   "cell_type": "markdown",
   "metadata": {},
   "source": [
    "# Part 1"
   ]
  },
  {
   "cell_type": "code",
   "execution_count": 1,
   "metadata": {},
   "outputs": [],
   "source": [
    "with open('day10_test.txt', 'r') as f:\n",
    "    test = f.readlines()\n",
    "    f.close()"
   ]
  },
  {
   "cell_type": "code",
   "execution_count": 2,
   "metadata": {},
   "outputs": [],
   "source": [
    "def run_part1(data):\n",
    "    signal = 0\n",
    "    test_cycles = [20, 60, 100, 140, 180, 220]\n",
    "    tc = 0\n",
    "    cycle = 1\n",
    "    X = 1\n",
    "    for line in data:\n",
    "        line = line.split()\n",
    "        if line[0] == 'noop':\n",
    "            cycle += 1\n",
    "        elif line[0] == 'addx':\n",
    "            cycle += 1\n",
    "            if cycle == test_cycles[tc]:\n",
    "                signal += cycle*X\n",
    "                #print(cycle, X, cycle*X, signal)\n",
    "                tc += 1\n",
    "                if tc == 6:\n",
    "                    return signal\n",
    "            cycle += 1\n",
    "            X += int(line[1])\n",
    "        \n",
    "        if cycle == test_cycles[tc]:\n",
    "            signal += cycle*X\n",
    "            #print(cycle, X, cycle*X, signal)\n",
    "            tc += 1\n",
    "        if tc == 6:\n",
    "            return signal\n",
    "    return signal"
   ]
  },
  {
   "cell_type": "code",
   "execution_count": 3,
   "metadata": {},
   "outputs": [
    {
     "name": "stdout",
     "output_type": "stream",
     "text": [
      "13140\n"
     ]
    }
   ],
   "source": [
    "print(run_part1(test))"
   ]
  },
  {
   "cell_type": "code",
   "execution_count": 4,
   "metadata": {},
   "outputs": [
    {
     "name": "stdout",
     "output_type": "stream",
     "text": [
      "14620\n"
     ]
    }
   ],
   "source": [
    "with open('day10_input.txt', 'r') as f:\n",
    "    inpt = f.readlines()\n",
    "    f.close()\n",
    "print(run_part1(inpt))"
   ]
  },
  {
   "cell_type": "markdown",
   "metadata": {},
   "source": [
    "# Part 2"
   ]
  },
  {
   "cell_type": "code",
   "execution_count": 5,
   "metadata": {},
   "outputs": [],
   "source": [
    "def run_part2(data):\n",
    "    signal = 0\n",
    "    test_cycles = [40, 80, 120, 160, 200, 240]\n",
    "    tc = 0\n",
    "    cycle = 1\n",
    "    X = 1\n",
    "    \n",
    "    string = ''\n",
    "    \n",
    "    for line in data:\n",
    "        line = line.split()\n",
    "        if line[0] == 'noop':\n",
    "            string, tc = draw(cycle, X, string, test_cycles, tc)\n",
    "            cycle += 1\n",
    "            if tc == 6:\n",
    "                return string\n",
    "            \n",
    "        elif line[0] == 'addx':\n",
    "            string, tc = draw(cycle, X, string, test_cycles, tc)\n",
    "            cycle += 1\n",
    "            if tc == 6:\n",
    "                return string\n",
    "                \n",
    "            string, tc = draw(cycle, X, string, test_cycles, tc)\n",
    "            cycle += 1\n",
    "            X += int(line[1])\n",
    "            if tc == 6:\n",
    "                return string\n",
    "        \n",
    "    return string\n",
    "\n",
    "def draw(cycle, X, string, test_cycles, tc):\n",
    "    if cycle%40 >= X and cycle%40 <= X+2:\n",
    "        string += '#'\n",
    "    else:\n",
    "        string += '.'\n",
    "    if cycle == test_cycles[tc]:\n",
    "        string += '\\n'\n",
    "        tc += 1\n",
    "    return string, tc"
   ]
  },
  {
   "cell_type": "code",
   "execution_count": 6,
   "metadata": {},
   "outputs": [
    {
     "name": "stdout",
     "output_type": "stream",
     "text": [
      "##..##..##..##..##..##..##..##..##..##..\n",
      "###...###...###...###...###...###...###.\n",
      "####....####....####....####....####....\n",
      "#####.....#####.....#####.....#####.....\n",
      "######......######......######......###.\n",
      "#######.......#######.......#######.....\n",
      "\n"
     ]
    }
   ],
   "source": [
    "print(run_part2(test))"
   ]
  },
  {
   "cell_type": "code",
   "execution_count": 7,
   "metadata": {},
   "outputs": [
    {
     "name": "stdout",
     "output_type": "stream",
     "text": [
      "###....##.####.###..#..#.###..####.#..##\n",
      "#..#....#.#....#..#.#..#.#..#.#....#..#.\n",
      "###.....#.###..#..#.####.#..#.###..#..##\n",
      "#..#....#.#....###..#..#.###..#....#..##\n",
      "#..#.#..#.#....#.#..#..#.#.#..#....#..##\n",
      "###...##..#....#..#.#..#.#..#.#.....##..\n",
      "\n"
     ]
    }
   ],
   "source": [
    "print(run_part2(inpt))"
   ]
  },
  {
   "cell_type": "code",
   "execution_count": null,
   "metadata": {},
   "outputs": [],
   "source": []
  }
 ],
 "metadata": {
  "kernelspec": {
   "display_name": "Python 3",
   "language": "python",
   "name": "python3"
  },
  "language_info": {
   "codemirror_mode": {
    "name": "ipython",
    "version": 3
   },
   "file_extension": ".py",
   "mimetype": "text/x-python",
   "name": "python",
   "nbconvert_exporter": "python",
   "pygments_lexer": "ipython3",
   "version": "3.7.4"
  }
 },
 "nbformat": 4,
 "nbformat_minor": 2
}
