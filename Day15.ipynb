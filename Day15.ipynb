{
 "cells": [
  {
   "cell_type": "markdown",
   "metadata": {},
   "source": [
    "# Part 1"
   ]
  },
  {
   "cell_type": "code",
   "execution_count": 1,
   "metadata": {},
   "outputs": [],
   "source": [
    "test = ['Sensor at x=2, y=18: closest beacon is at x=-2, y=15',\n",
    "        'Sensor at x=9, y=16: closest beacon is at x=10, y=16',\n",
    "        'Sensor at x=13, y=2: closest beacon is at x=15, y=3',\n",
    "        'Sensor at x=12, y=14: closest beacon is at x=10, y=16',\n",
    "        'Sensor at x=10, y=20: closest beacon is at x=10, y=16',\n",
    "        'Sensor at x=14, y=17: closest beacon is at x=10, y=16',\n",
    "        'Sensor at x=8, y=7: closest beacon is at x=2, y=10',\n",
    "        'Sensor at x=2, y=0: closest beacon is at x=2, y=10',\n",
    "        'Sensor at x=0, y=11: closest beacon is at x=2, y=10',\n",
    "        'Sensor at x=20, y=14: closest beacon is at x=25, y=17',\n",
    "        'Sensor at x=17, y=20: closest beacon is at x=21, y=22',\n",
    "        'Sensor at x=16, y=7: closest beacon is at x=15, y=3',\n",
    "        'Sensor at x=14, y=3: closest beacon is at x=15, y=3',\n",
    "        'Sensor at x=20, y=1: closest beacon is at x=15, y=3']"
   ]
  },
  {
   "cell_type": "code",
   "execution_count": 2,
   "metadata": {},
   "outputs": [],
   "source": [
    "def get_sensors(data):\n",
    "    sensors = {}\n",
    "    for line in data:\n",
    "        line = line.strip().split()\n",
    "        sx = int(line[2][2:-1])\n",
    "        sy = int(line[3][2:-1])\n",
    "        bx = int(line[-2][2:-1])\n",
    "        by = int(line[-1][2:])\n",
    "        \n",
    "        manhatten = abs(sx-bx)+abs(sy-by)\n",
    "        sensors[(sx,sy)] = [(bx,by),manhatten]\n",
    "    return sensors\n",
    "\n",
    "def unable_at_y(sensors, y, empty=None):\n",
    "    if empty is None:\n",
    "        empty = {}\n",
    "    for sensor in sensors.keys():\n",
    "        if abs(sensor[1]-y) > sensors[sensor][1]:\n",
    "            continue\n",
    "        dy = abs(y-sensor[1])\n",
    "        dx = sensors[sensor][1]-dy\n",
    "        min_x = sensor[0]-dx\n",
    "        max_x = sensor[0]+dx\n",
    "        for x in range(min_x, max_x+1):\n",
    "            if (x,y) not in empty.keys():\n",
    "                empty[(x,y)] = 1\n",
    "                \n",
    "    for sensor in sensors.keys():\n",
    "        empty.pop(sensors[sensor][0], None)\n",
    "                \n",
    "    return empty.keys()\n",
    "\n",
    "def run_part1(data, y):\n",
    "    sensors = get_sensors(data)\n",
    "    number = unable_at_y(sensors, y)\n",
    "    print('Part 1 result:', len(list(number)))"
   ]
  },
  {
   "cell_type": "code",
   "execution_count": 3,
   "metadata": {},
   "outputs": [
    {
     "name": "stdout",
     "output_type": "stream",
     "text": [
      "Part 1 result: 26\n"
     ]
    }
   ],
   "source": [
    "run_part1(test, 10)"
   ]
  },
  {
   "cell_type": "code",
   "execution_count": 4,
   "metadata": {},
   "outputs": [
    {
     "name": "stdout",
     "output_type": "stream",
     "text": [
      "Part 1 result: 4886370\n"
     ]
    }
   ],
   "source": [
    "with open('day15_input.txt', 'r') as f:\n",
    "    inpt = f.readlines()\n",
    "    f.close()\n",
    "run_part1(inpt, 2000000)"
   ]
  },
  {
   "cell_type": "markdown",
   "metadata": {},
   "source": [
    "# Part 2"
   ]
  },
  {
   "cell_type": "code",
   "execution_count": 5,
   "metadata": {},
   "outputs": [],
   "source": [
    "def find_gap(sensors, maxi):\n",
    "    for y in range(0, maxi+1):\n",
    "        rnge = []\n",
    "        for sensor in sensors.keys():\n",
    "            if abs(sensor[1]-y) > sensors[sensor][1]:\n",
    "                continue\n",
    "                \n",
    "            dy = abs(y-sensor[1])\n",
    "            dx = sensors[sensor][1]-dy\n",
    "            min_x = sensor[0]-dx\n",
    "            if min_x > maxi:\n",
    "                continue\n",
    "            elif min_x < 0:\n",
    "                min_x = 0\n",
    "            max_x = sensor[0]+dx\n",
    "            if max_x < 0:\n",
    "                continue\n",
    "            elif max_x > maxi:\n",
    "                max_x = maxi\n",
    "                \n",
    "            #print(rnge, ':', [min_x,max_x])\n",
    "            if len(rnge) == 0:\n",
    "                rnge.append([min_x, max_x])\n",
    "            else:\n",
    "                count = 0\n",
    "                for i in range(0, len(rnge)):\n",
    "                    #inside rnge[i]\n",
    "                    if rnge[i][0] <= min_x and rnge[i][1] >= max_x:\n",
    "                        #print('a', rnge[i][0], '<=', min_x, 'and', rnge[i][1], '>=', max_x)\n",
    "                        count += 1\n",
    "                    #outside rnge[i]\n",
    "                    elif rnge[i][0] >= min_x and rnge[i][1] <= max_x:\n",
    "                        #print('b', rnge[i][0], '>=', min_x, 'and', rnge[i][1], '<=', max_x)\n",
    "                        rnge[i] = [min_x, max_x]\n",
    "                        count += 1\n",
    "                    #left of rnge[i]\n",
    "                    elif min_x <= rnge[i][0] and rnge[i][0] <= max_x and max_x <= rnge[i][1]:\n",
    "                        #print('c', min_x, '<=', rnge[i][0], 'and', rnge[i][0], '<=', max_x, 'and',\\\n",
    "                        #      max_x, '<=', rnge[i][1])\n",
    "                        rnge[i][0] = min_x\n",
    "                        count +=1\n",
    "                    #right of rnge[i]\n",
    "                    elif rnge[i][0] <= min_x and min_x <= rnge[i][1] and rnge[i][1] <= max_x:\n",
    "                        #print('d', rnge[i][0], '<=', min_x, 'and', min_x, '<=', rnge[i][1], 'and',\\\n",
    "                        #      rnge[i][1], '<=', max_x)\n",
    "                        rnge[i][1] = max_x\n",
    "                        count += 1\n",
    "                    #right and butting\n",
    "                    elif rnge[i][1]+1 == min_x:\n",
    "                        rnge[i][1] = max_x\n",
    "                        count += 1\n",
    "                    #left and butting\n",
    "                    elif rnge[i][0] == max_x+1:\n",
    "                        rnge[i][0] = min_x\n",
    "                        count += 1\n",
    "                if count == 0:\n",
    "                    rnge.append([min_x,max_x])\n",
    "            \n",
    "            #print(rnge)\n",
    "            if len(rnge) > 1:\n",
    "                while True:\n",
    "                    to_del = []\n",
    "                    len_rnge = len(rnge)\n",
    "                    for i in range(0, len_rnge-1):\n",
    "                        if i in to_del:\n",
    "                            continue\n",
    "                        for j in range(i+1, len_rnge):\n",
    "                            if j in to_del:\n",
    "                                continue\n",
    "                            #inside rnge[i]\n",
    "                            if rnge[i][0] <= rnge[j][0] and rnge[i][1] >= rnge[j][1]:\n",
    "                                #print('la', rnge[i][0], '<=', rnge[j][0], 'and', rnge[i][1], '>=', rnge[j][1])\n",
    "                                to_del.append(j)\n",
    "                            #outside rnge[i]\n",
    "                            elif rnge[i][0] >= rnge[j][0] and rnge[i][1] <= rnge[j][1]:\n",
    "                                #print('lb', rnge[i][0], '>=', rnge[j][0], 'and', rnge[i][1], '<=', rnge[j][1])\n",
    "                                rnge[i] = [rnge[j][0], rnge[j][1]]\n",
    "                                to_del.append(j)\n",
    "                            #left of rnge[i]\n",
    "                            elif rnge[j][0] <= rnge[i][0] and rnge[i][0] <= rnge[j][1] and rnge[j][1] <= rnge[i][1]:\n",
    "                                #print('lc', rnge[j][0], '<=', rnge[i][0], 'and', rnge[i][0], '<=', rnge[j][1], 'and',\\\n",
    "                                #      rnge[j][1], '<=', rnge[i][1])\n",
    "                                rnge[i][0] = rnge[j][0]\n",
    "                                to_del.append(j)\n",
    "                            #right of rnge[i]\n",
    "                            elif rnge[i][0] <= rnge[j][0] and rnge[j][0] <= rnge[i][1] and rnge[i][1] <= rnge[j][1]:\n",
    "                                #print('ld', rnge[i][0], '<=', rnge[j][0], 'and', rnge[j][0], '<=', rnge[i][1], 'and',\\\n",
    "                                #      rnge[i][1], '<=', rnge[j][1])\n",
    "                                rnge[i][1] = rnge[j][1]\n",
    "                                to_del.append(j)\n",
    "                            #right and butting\n",
    "                            elif rnge[i][1]+1 == rnge[j][0]:\n",
    "                                rnge[i][1] = rnge[j][1]\n",
    "                                to_del.append(j)\n",
    "                            #left and butting\n",
    "                            elif rnge[i][0] == rnge[j][1]+1:\n",
    "                                rnge[i][0] = rnge[j][0]\n",
    "                                to_del.append(j)\n",
    "                    if len(to_del) > 0:\n",
    "                        for i in range(len(to_del)-1, -1, -1):\n",
    "                            del rnge[to_del[i]]\n",
    "                    else:\n",
    "                        break\n",
    "            #print(rnge)\n",
    "            #print()\n",
    "                                \n",
    "        #print(y, rnge)\n",
    "        if len(rnge) == 2:\n",
    "            #print(rnge)\n",
    "            #print(rnge[0][1]+1, y)\n",
    "            #print()\n",
    "            return ((rnge[0][1]+1)*4000000) + y\n",
    "        \n",
    "    print('WELL SHIT')\n",
    "    return -1\n",
    "\n",
    "def run_part2(data, maxi):\n",
    "    sensors = get_sensors(data)\n",
    "    number = find_gap(sensors, maxi)\n",
    "    print('Part 2 result:', number)"
   ]
  },
  {
   "cell_type": "code",
   "execution_count": 6,
   "metadata": {},
   "outputs": [
    {
     "name": "stdout",
     "output_type": "stream",
     "text": [
      "Part 2 result: 56000011\n"
     ]
    }
   ],
   "source": [
    "run_part2(test, 20)"
   ]
  },
  {
   "cell_type": "code",
   "execution_count": 7,
   "metadata": {},
   "outputs": [
    {
     "name": "stdout",
     "output_type": "stream",
     "text": [
      "Part 2 result: 16000006948438\n"
     ]
    }
   ],
   "source": [
    "run_part2(inpt, 4000000)"
   ]
  },
  {
   "cell_type": "code",
   "execution_count": 8,
   "metadata": {},
   "outputs": [],
   "source": [
    "#6481748478712 low\n",
    "#16000006948438 high"
   ]
  }
 ],
 "metadata": {
  "kernelspec": {
   "display_name": "Python 3",
   "language": "python",
   "name": "python3"
  },
  "language_info": {
   "codemirror_mode": {
    "name": "ipython",
    "version": 3
   },
   "file_extension": ".py",
   "mimetype": "text/x-python",
   "name": "python",
   "nbconvert_exporter": "python",
   "pygments_lexer": "ipython3",
   "version": "3.6.9"
  }
 },
 "nbformat": 4,
 "nbformat_minor": 4
}
