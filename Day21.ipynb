{
 "cells": [
  {
   "cell_type": "code",
   "execution_count": 1,
   "metadata": {},
   "outputs": [],
   "source": [
    "from sympy.solvers import solve\n",
    "from sympy import Symbol\n",
    "from sympy.parsing.sympy_parser import parse_expr"
   ]
  },
  {
   "cell_type": "markdown",
   "metadata": {},
   "source": [
    "# Part 1"
   ]
  },
  {
   "cell_type": "code",
   "execution_count": 2,
   "metadata": {},
   "outputs": [],
   "source": [
    "test = ['root: pppw + sjmn',\n",
    "        'dbpl: 5',\n",
    "        'cczh: sllz + lgvd',\n",
    "        'zczc: 2',\n",
    "        'ptdq: humn - dvpt',\n",
    "        'dvpt: 3',\n",
    "        'lfqf: 4',\n",
    "        'humn: 5',\n",
    "        'ljgn: 2',\n",
    "        'sjmn: drzm * dbpl',\n",
    "        'sllz: 4',\n",
    "        'pppw: cczh / lfqf',\n",
    "        'lgvd: ljgn * ptdq',\n",
    "        'drzm: hmdt - zczc',\n",
    "        'hmdt: 32']"
   ]
  },
  {
   "cell_type": "code",
   "execution_count": 3,
   "metadata": {},
   "outputs": [
    {
     "name": "stdout",
     "output_type": "stream",
     "text": [
      "Part 1 result: 152\n"
     ]
    }
   ],
   "source": [
    "class monkey():\n",
    "    def __init__(self, name, m1=None, op=None, m2=None, value=None):\n",
    "        self.name = name\n",
    "        self.m1 = m1\n",
    "        self.op = op\n",
    "        self.m2 = m2\n",
    "        self.value = value\n",
    "        self.child = None\n",
    "        \n",
    "    def set_troup(self, troup):\n",
    "        self.troup = troup\n",
    "        \n",
    "    def calculate(self, child=None):\n",
    "        self.child = child\n",
    "        if self.value is None:\n",
    "            self.v1 = self.troup[self.m1].calculate(self.name)\n",
    "            self.v2 = self.troup[self.m2].calculate(self.name)\n",
    "            if self.op == '+':\n",
    "                self.value = self.v1+self.v2\n",
    "            elif self.op == '-':\n",
    "                self.value = self.v1-self.v2\n",
    "            elif self.op == '*':\n",
    "                self.value = self.v1*self.v2\n",
    "            elif self.op == '/':\n",
    "                self.value = self.v1/self.v2\n",
    "            elif self.op == '=':\n",
    "                print(self.v1, self.v2)\n",
    "                self.value = self.v1==self.v2\n",
    "            return int(self.value)\n",
    "        else:\n",
    "            return int(self.value)\n",
    "        \n",
    "    def build_eqn(self, eqn=None, parent=None):\n",
    "        if eqn is None:\n",
    "            eqn = 'x'\n",
    "        elif self.name == 'root':\n",
    "            if parent == self.m1:\n",
    "                eqn += '-'+str(self.v2)\n",
    "            else:\n",
    "                eqn += '-'+str(self.v1)\n",
    "            return eqn\n",
    "        else:\n",
    "            if parent == self.m1:\n",
    "                eqn = '('+eqn+self.op+str(self.v2)+')'\n",
    "            else:\n",
    "                eqn = '('+str(self.v1)+self.op+eqn+')'\n",
    "        return self.troup[self.child].build_eqn(eqn, self.name)\n",
    "        \n",
    "    \n",
    "def build_troup(data):\n",
    "    troup = {}\n",
    "    \n",
    "    for line in data:\n",
    "        line = line.strip().split()\n",
    "        if len(line) == 2:\n",
    "            troup[line[0][:-1]] = monkey(name=line[0][:-1], value=int(line[1]))\n",
    "        else:\n",
    "            troup[line[0][:-1]] = monkey(name=line[0][:-1], m1=line[1], op=line[2], m2=line[3])\n",
    "            \n",
    "    for key in troup.keys():\n",
    "        troup[key].set_troup(troup)\n",
    "        \n",
    "    return troup\n",
    "        \n",
    "def part1(data):\n",
    "    troup = build_troup(data)\n",
    "    print('Part 1 result:', troup['root'].calculate())\n",
    "    \n",
    "part1(test)"
   ]
  },
  {
   "cell_type": "code",
   "execution_count": 4,
   "metadata": {},
   "outputs": [
    {
     "name": "stdout",
     "output_type": "stream",
     "text": [
      "Part 1 result: 152479825094094\n"
     ]
    }
   ],
   "source": [
    "with open('day21_input.txt', 'r') as f:\n",
    "    inpt = f.readlines()\n",
    "    f.close()\n",
    "part1(inpt)"
   ]
  },
  {
   "cell_type": "markdown",
   "metadata": {},
   "source": [
    "# Part 2"
   ]
  },
  {
   "cell_type": "code",
   "execution_count": 5,
   "metadata": {},
   "outputs": [
    {
     "name": "stdout",
     "output_type": "stream",
     "text": [
      "Part 2 result: 301\n"
     ]
    }
   ],
   "source": [
    "def part2(data):\n",
    "    troup = build_troup(data)\n",
    "    troup['root'].calculate()\n",
    "    troup['root'].op = '='\n",
    "    eqn = troup['humn'].build_eqn()\n",
    "    x = Symbol('x')\n",
    "    exp = solve(parse_expr(eqn), x)\n",
    "    print('Part 2 result:', exp[0])\n",
    "    \n",
    "part2(test)"
   ]
  },
  {
   "cell_type": "code",
   "execution_count": 6,
   "metadata": {},
   "outputs": [
    {
     "name": "stdout",
     "output_type": "stream",
     "text": [
      "Part 2 result: 3360561285172\n"
     ]
    }
   ],
   "source": [
    "part2(inpt)"
   ]
  },
  {
   "cell_type": "code",
   "execution_count": null,
   "metadata": {},
   "outputs": [],
   "source": []
  }
 ],
 "metadata": {
  "kernelspec": {
   "display_name": "Python 3",
   "language": "python",
   "name": "python3"
  },
  "language_info": {
   "codemirror_mode": {
    "name": "ipython",
    "version": 3
   },
   "file_extension": ".py",
   "mimetype": "text/x-python",
   "name": "python",
   "nbconvert_exporter": "python",
   "pygments_lexer": "ipython3",
   "version": "3.7.4"
  }
 },
 "nbformat": 4,
 "nbformat_minor": 4
}
