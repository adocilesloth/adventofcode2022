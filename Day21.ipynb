{
 "cells": [
  {
   "cell_type": "markdown",
   "metadata": {},
   "source": [
    "# Part 1"
   ]
  },
  {
   "cell_type": "code",
   "execution_count": 1,
   "metadata": {},
   "outputs": [],
   "source": [
    "test = ['root: pppw + sjmn',\n",
    "        'dbpl: 5',\n",
    "        'cczh: sllz + lgvd',\n",
    "        'zczc: 2',\n",
    "        'ptdq: humn - dvpt',\n",
    "        'dvpt: 3',\n",
    "        'lfqf: 4',\n",
    "        'humn: 5',\n",
    "        'ljgn: 2',\n",
    "        'sjmn: drzm * dbpl',\n",
    "        'sllz: 4',\n",
    "        'pppw: cczh / lfqf',\n",
    "        'lgvd: ljgn * ptdq',\n",
    "        'drzm: hmdt - zczc',\n",
    "        'hmdt: 32']"
   ]
  },
  {
   "cell_type": "code",
   "execution_count": 2,
   "metadata": {},
   "outputs": [
    {
     "name": "stdout",
     "output_type": "stream",
     "text": [
      "5\n",
      "Part 1 result: 152\n"
     ]
    }
   ],
   "source": [
    "class monkey():\n",
    "    def __init__(self, name, m1=None, op=None, m2=None, value=None):\n",
    "        self.name = name\n",
    "        self.m1 = m1\n",
    "        self.op = op\n",
    "        self.m2 = m2\n",
    "        self.value = value\n",
    "        self.child = None\n",
    "        \n",
    "    def set_troup(self, troup):\n",
    "        self.troup = troup\n",
    "        \n",
    "    def calculate(self, child):\n",
    "        self.child = child\n",
    "        if self.value is None:\n",
    "            v1 = self.troup[self.m1].calculate(self.name)\n",
    "            v2 = self.troup[self.m2].calculate(self.name)\n",
    "            if self.op == '+':\n",
    "                self.value = v1+v2\n",
    "            elif self.op == '-':\n",
    "                self.value = v1-v2\n",
    "            elif self.op == '*':\n",
    "                self.value = v1*v2\n",
    "            elif self.op == '/':\n",
    "                self.value = v1/v2\n",
    "            elif self.op == '=':\n",
    "                print(v1, v2)\n",
    "                self.value = v1==v2\n",
    "            return self.value\n",
    "        else:\n",
    "            return self.value\n",
    "    \n",
    "def build_troup(data):\n",
    "    troup = {}\n",
    "    \n",
    "    for line in data:\n",
    "        line = line.strip().split()\n",
    "        if len(line) == 2:\n",
    "            troup[line[0][:-1]] = monkey(name=line[0][:-1], value=int(line[1]))\n",
    "        else:\n",
    "            troup[line[0][:-1]] = monkey(name=line[0][:-1], m1=line[1], op=line[2], m2=line[3])\n",
    "            \n",
    "    for key in troup.keys():\n",
    "        troup[key].set_troup(troup)\n",
    "        \n",
    "    return troup\n",
    "        \n",
    "def part1(data):\n",
    "    troup = build_troup(data)\n",
    "    print('Part 1 result:', troup['root'].calculate())\n",
    "    \n",
    "part1(test)"
   ]
  },
  {
   "cell_type": "code",
   "execution_count": 3,
   "metadata": {},
   "outputs": [
    {
     "name": "stdout",
     "output_type": "stream",
     "text": [
      "922\n",
      "Part 1 result: 152479825094094\n"
     ]
    }
   ],
   "source": [
    "with open('day21_input.txt', 'r') as f:\n",
    "    inpt = f.readlines()\n",
    "    f.close()\n",
    "part1(inpt)"
   ]
  },
  {
   "cell_type": "markdown",
   "metadata": {},
   "source": [
    "# Part 2"
   ]
  },
  {
   "cell_type": "code",
   "execution_count": 8,
   "metadata": {},
   "outputs": [
    {
     "name": "stdout",
     "output_type": "stream",
     "text": [
      "v1\n",
      "5\n",
      "v2\n",
      "2 150\n",
      "False\n"
     ]
    }
   ],
   "source": [
    "def part2(data):\n",
    "    troup = build_troup(data)\n",
    "    troup['root'].op = '='\n",
    "    print(troup['root'].calculate(None))\n",
    "    \n",
    "part2(test)"
   ]
  },
  {
   "cell_type": "code",
   "execution_count": null,
   "metadata": {},
   "outputs": [],
   "source": []
  }
 ],
 "metadata": {
  "kernelspec": {
   "display_name": "Python 3",
   "language": "python",
   "name": "python3"
  },
  "language_info": {
   "codemirror_mode": {
    "name": "ipython",
    "version": 3
   },
   "file_extension": ".py",
   "mimetype": "text/x-python",
   "name": "python",
   "nbconvert_exporter": "python",
   "pygments_lexer": "ipython3",
   "version": "3.6.9"
  }
 },
 "nbformat": 4,
 "nbformat_minor": 4
}
