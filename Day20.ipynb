{
 "cells": [
  {
   "cell_type": "code",
   "execution_count": 1,
   "metadata": {},
   "outputs": [],
   "source": [
    "import numpy as np\n",
    "from copy import deepcopy"
   ]
  },
  {
   "cell_type": "markdown",
   "metadata": {},
   "source": [
    "# Part 1"
   ]
  },
  {
   "cell_type": "code",
   "execution_count": 2,
   "metadata": {},
   "outputs": [],
   "source": [
    "test = np.array([1, 2, -3, 3, -2, 0, 4])"
   ]
  },
  {
   "cell_type": "code",
   "execution_count": 3,
   "metadata": {},
   "outputs": [],
   "source": [
    "def mix(inst, mixes=1, key=1):\n",
    "    \n",
    "    data = {}\n",
    "    for i in range(0, len(inst)):\n",
    "        data[i] = [inst[i]*key, i] #value, origin\n",
    "        inst[i] *= key\n",
    "    #print([data[key][0] for key in data.keys()])\n",
    "    \n",
    "    for _ in range(0, mixes):\n",
    "        for j in range(0, len(inst)):\n",
    "            n = inst[j]\n",
    "            for i in data.keys():\n",
    "                if data[i][0] == n and data[i][1] == j:\n",
    "                    value = data[i]\n",
    "                    break\n",
    "\n",
    "            new_i = (i+n)%(len(inst)-1) #new position\n",
    "            if new_i < i:\n",
    "                for key in range(i-1, new_i-1, -1):\n",
    "                    data[key+1] = data[key] \n",
    "            elif new_i > i:\n",
    "                for key in range(i, new_i):\n",
    "                    data[key] = data[key+1]\n",
    "            data[new_i] = value\n",
    "        \n",
    "        #print([data[key][0] for key in data.keys()])\n",
    "        #break\n",
    "    return data\n",
    "\n",
    "def get_coords(data, inst):\n",
    "    for idx in data.keys():\n",
    "        if data[idx][0] == 0:\n",
    "            break\n",
    "    \n",
    "    th1 = (1000+idx)%len(inst)\n",
    "    nth1 = data[th1][0]\n",
    "    print(1000, th1, nth1)\n",
    "        \n",
    "    th2 = (2000+idx)%len(inst)\n",
    "    nth2 = data[th2][0]\n",
    "    print(2000, th2, nth2)\n",
    "        \n",
    "    th3 = (3000+idx)%len(inst)\n",
    "    nth3 = data[th3][0]\n",
    "    print(3000, th3, nth3)\n",
    "    \n",
    "    print('Part n result:', sum([nth1, nth2, nth3]))\n",
    "    \n",
    "\n",
    "def run(inst, mixes=1, key=1):\n",
    "    data = mix(inst, mixes, key)\n",
    "    get_coords(data, inst)"
   ]
  },
  {
   "cell_type": "code",
   "execution_count": 4,
   "metadata": {},
   "outputs": [
    {
     "name": "stdout",
     "output_type": "stream",
     "text": [
      "1000 4 4\n",
      "2000 3 -3\n",
      "3000 2 2\n",
      "Part n result: 3\n"
     ]
    }
   ],
   "source": [
    "run(deepcopy(test))"
   ]
  },
  {
   "cell_type": "code",
   "execution_count": 5,
   "metadata": {},
   "outputs": [
    {
     "name": "stdout",
     "output_type": "stream",
     "text": [
      "1000 4575 6201\n",
      "2000 575 6129\n",
      "3000 1575 -3958\n",
      "Part n result: 8372\n"
     ]
    }
   ],
   "source": [
    "inpt = np.genfromtxt('day20_input.txt', dtype=int).flatten()\n",
    "run(deepcopy(inpt))"
   ]
  },
  {
   "cell_type": "markdown",
   "metadata": {},
   "source": [
    "# Part 2"
   ]
  },
  {
   "cell_type": "code",
   "execution_count": 6,
   "metadata": {},
   "outputs": [
    {
     "name": "stdout",
     "output_type": "stream",
     "text": [
      "1000 6 811589153\n",
      "2000 5 2434767459\n",
      "3000 4 -1623178306\n",
      "Part n result: 1623178306\n"
     ]
    }
   ],
   "source": [
    "run(deepcopy(test), 10, 811589153)"
   ]
  },
  {
   "cell_type": "code",
   "execution_count": 7,
   "metadata": {},
   "outputs": [
    {
     "name": "stdout",
     "output_type": "stream",
     "text": [
      "1000 4281 1943756021435\n",
      "2000 281 2287058233154\n",
      "3000 1281 3634296227134\n",
      "Part n result: 7865110481723\n"
     ]
    }
   ],
   "source": [
    "run(deepcopy(inpt), 10, 811589153)"
   ]
  },
  {
   "cell_type": "code",
   "execution_count": null,
   "metadata": {},
   "outputs": [],
   "source": []
  }
 ],
 "metadata": {
  "kernelspec": {
   "display_name": "Python 3",
   "language": "python",
   "name": "python3"
  },
  "language_info": {
   "codemirror_mode": {
    "name": "ipython",
    "version": 3
   },
   "file_extension": ".py",
   "mimetype": "text/x-python",
   "name": "python",
   "nbconvert_exporter": "python",
   "pygments_lexer": "ipython3",
   "version": "3.6.9"
  }
 },
 "nbformat": 4,
 "nbformat_minor": 4
}
