{
 "cells": [
  {
   "cell_type": "code",
   "execution_count": 1,
   "metadata": {},
   "outputs": [],
   "source": [
    "from copy import deepcopy\n",
    "from numpy import lcm\n",
    "\n",
    "import matplotlib.pyplot as plt\n",
    "%matplotlib inline"
   ]
  },
  {
   "cell_type": "markdown",
   "metadata": {},
   "source": [
    "# Part 1"
   ]
  },
  {
   "cell_type": "code",
   "execution_count": 2,
   "metadata": {},
   "outputs": [],
   "source": [
    "test = '>>><<><>><<<>><>>><<<>>><<<><<<>><>><<>>'"
   ]
  },
  {
   "cell_type": "code",
   "execution_count": 3,
   "metadata": {},
   "outputs": [],
   "source": [
    "shapes = [ [[2,0],[3,0],[4,0],[5,0]],\n",
    "           [[3,0],[2,1],[3,1],[4,1],[3,2]],\n",
    "           [[2,0],[3,0],[4,0],[4,1],[4,2]],\n",
    "           [[2,0],[2,1],[2,2],[2,3]],\n",
    "           [[2,0],[3,0],[2,1],[3,1]] ]\n",
    "\n",
    "def drop(shape, graph):\n",
    "    #print('V')\n",
    "    flag = False\n",
    "    for i in range(0, len(shape)):\n",
    "        shape[i][1] -= 1\n",
    "        if shape[i][1] < 1 or tuple(shape[i]) in graph.keys():\n",
    "            flag = True\n",
    "    if flag:\n",
    "        for i in range(0, len(shape)):\n",
    "            shape[i][1] += 1\n",
    "            graph[tuple(shape[i])] = shape[i][1]\n",
    "            \n",
    "    #for key in graph.keys():\n",
    "    #    plt.plot(key[0],key[1],'rX')\n",
    "    #for s in shape:\n",
    "    #    plt.plot(s[0],s[1],'bv')\n",
    "    #plt.xlim(-1,7)\n",
    "    #plt.ylim(-1, 10)\n",
    "    #plt.show()\n",
    "    \n",
    "    return shape, flag, graph\n",
    "\n",
    "def slide(shape, lr, graph):\n",
    "    if lr == '<':\n",
    "        dx = 1\n",
    "    elif lr == '>':\n",
    "        dx = -1   \n",
    "    #print(lr)\n",
    "    \n",
    "    flag = False\n",
    "    for i in range(0, len(shape)):\n",
    "        shape[i][0] -= dx\n",
    "        if shape[i][0] < 0 or shape[i][0] > 6 or tuple(shape[i]) in graph.keys():\n",
    "            #print(shape[i][0] < 0, shape[i][0] > 6, tuple(shape[i]) in graph.keys())\n",
    "            flag = True\n",
    "    if flag:\n",
    "        for i in range(0, len(shape)):\n",
    "            shape[i][0] += dx\n",
    "            \n",
    "    #for key in graph.keys():\n",
    "    #    plt.plot(key[0],key[1],'rX')\n",
    "    #for s in shape:\n",
    "    #    plt.plot(s[0],s[1],'bv')\n",
    "    #plt.xlim(-1,7)\n",
    "    #plt.ylim(-1, 10)\n",
    "    #plt.show()\n",
    "            \n",
    "    return shape\n",
    "\n",
    "def drop_rocks(shapes, jet, num):\n",
    "    graph = {}\n",
    "    graph[(0,0)] = 0\n",
    "    \n",
    "    ji = 0\n",
    "    for i in range(0, num):\n",
    "        shape = deepcopy(shapes[i%len(shapes)])\n",
    "        height = max(graph.values())\n",
    "        \n",
    "        #spawn rock\n",
    "        for i in range(0, len(shape)):\n",
    "            shape[i][1] += height+4\n",
    "            \n",
    "        flag = False\n",
    "        while flag == False:\n",
    "            j = jet[ji%len(jet)]\n",
    "            ji += 1\n",
    "            shape = slide(shape, j, graph)\n",
    "            shape, flag, graph = drop(shape, graph)\n",
    "        \n",
    "    return max(graph.values())"
   ]
  },
  {
   "cell_type": "code",
   "execution_count": 4,
   "metadata": {},
   "outputs": [
    {
     "data": {
      "text/plain": [
       "3068"
      ]
     },
     "execution_count": 4,
     "metadata": {},
     "output_type": "execute_result"
    }
   ],
   "source": [
    "drop_rocks(shapes, test, 2022)"
   ]
  },
  {
   "cell_type": "code",
   "execution_count": 5,
   "metadata": {},
   "outputs": [
    {
     "name": "stdout",
     "output_type": "stream",
     "text": [
      "Part 1 result: 3149\n"
     ]
    }
   ],
   "source": [
    "with open('day17_input.txt', 'r') as f:\n",
    "    inpt = f.readlines()\n",
    "    f.close()\n",
    "inpt = inpt[0].strip()\n",
    "print('Part 1 result:', drop_rocks(shapes, inpt, 2022))"
   ]
  },
  {
   "cell_type": "markdown",
   "metadata": {},
   "source": [
    "# Part 2"
   ]
  },
  {
   "cell_type": "code",
   "execution_count": 6,
   "metadata": {},
   "outputs": [
    {
     "name": "stdout",
     "output_type": "stream",
     "text": [
      "40\n",
      "Part 2 result: 1875000000000\n"
     ]
    }
   ],
   "source": [
    "def run_part2(shapes, jet):\n",
    "    if len(jet)%len(shapes) != 0:\n",
    "        repeat = lcm(len(jet), len(shapes))\n",
    "    else:\n",
    "        repeat = int(len(jet)/len(shapes))\n",
    "        \n",
    "    rep_height = drop_rocks(shapes, jet, repeat)\n",
    "    \n",
    "    multiple = 1000000000000//repeat\n",
    "    height = multiple*rep_height\n",
    "    \n",
    "    xs = 1000000000000%repeat\n",
    "    xs_height = drop_rocks(shapes, jet, xs)\n",
    "    \n",
    "    height += xs_height\n",
    "    \n",
    "    print('Part 2 result:', height)\n",
    "    \n",
    "run_part2(shapes, test)"
   ]
  },
  {
   "cell_type": "code",
   "execution_count": null,
   "metadata": {},
   "outputs": [],
   "source": []
  }
 ],
 "metadata": {
  "kernelspec": {
   "display_name": "Python 3",
   "language": "python",
   "name": "python3"
  },
  "language_info": {
   "codemirror_mode": {
    "name": "ipython",
    "version": 3
   },
   "file_extension": ".py",
   "mimetype": "text/x-python",
   "name": "python",
   "nbconvert_exporter": "python",
   "pygments_lexer": "ipython3",
   "version": "3.7.4"
  }
 },
 "nbformat": 4,
 "nbformat_minor": 2
}
