{
 "cells": [
  {
   "cell_type": "code",
   "execution_count": 1,
   "metadata": {},
   "outputs": [],
   "source": [
    "from copy import deepcopy\n",
    "from numpy import lcm\n",
    "\n",
    "import matplotlib.pyplot as plt\n",
    "%matplotlib inline"
   ]
  },
  {
   "cell_type": "markdown",
   "metadata": {},
   "source": [
    "# Part 1"
   ]
  },
  {
   "cell_type": "code",
   "execution_count": 2,
   "metadata": {},
   "outputs": [],
   "source": [
    "test = '>>><<><>><<<>><>>><<<>>><<<><<<>><>><<>>'"
   ]
  },
  {
   "cell_type": "code",
   "execution_count": 3,
   "metadata": {},
   "outputs": [],
   "source": [
    "shapes = [ [[2,0],[3,0],[4,0],[5,0]],\n",
    "           [[3,0],[2,1],[3,1],[4,1],[3,2]],\n",
    "           [[2,0],[3,0],[4,0],[4,1],[4,2]],\n",
    "           [[2,0],[2,1],[2,2],[2,3]],\n",
    "           [[2,0],[3,0],[2,1],[3,1]] ]\n",
    "\n",
    "def drop(shape, graph):\n",
    "    #print('V')\n",
    "    flag = False\n",
    "    for i in range(0, len(shape)):\n",
    "        shape[i][1] -= 1\n",
    "        if shape[i][1] < 1 or tuple(shape[i]) in graph.keys():\n",
    "            flag = True\n",
    "    if flag:\n",
    "        for i in range(0, len(shape)):\n",
    "            shape[i][1] += 1\n",
    "            graph[tuple(shape[i])] = shape[i][1]\n",
    "            \n",
    "    #for key in graph.keys():\n",
    "    #    plt.plot(key[0],key[1],'rX')\n",
    "    #for s in shape:\n",
    "    #    plt.plot(s[0],s[1],'bv')\n",
    "    #plt.xlim(-1,7)\n",
    "    #plt.ylim(-1, 10)\n",
    "    #plt.show()\n",
    "    \n",
    "    return shape, flag, graph\n",
    "\n",
    "def slide(shape, lr, graph):\n",
    "    if lr == '<':\n",
    "        dx = 1\n",
    "    elif lr == '>':\n",
    "        dx = -1   \n",
    "    #print(lr)\n",
    "    \n",
    "    flag = False\n",
    "    for i in range(0, len(shape)):\n",
    "        shape[i][0] -= dx\n",
    "        if shape[i][0] < 0 or shape[i][0] > 6 or tuple(shape[i]) in graph.keys():\n",
    "            #print(shape[i][0] < 0, shape[i][0] > 6, tuple(shape[i]) in graph.keys())\n",
    "            flag = True\n",
    "    if flag:\n",
    "        for i in range(0, len(shape)):\n",
    "            shape[i][0] += dx\n",
    "            \n",
    "    #for key in graph.keys():\n",
    "    #    plt.plot(key[0],key[1],'rX')\n",
    "    #for s in shape:\n",
    "    #    plt.plot(s[0],s[1],'bv')\n",
    "    #plt.xlim(-1,7)\n",
    "    #plt.ylim(-1, 10)\n",
    "    #plt.show()\n",
    "            \n",
    "    return shape\n",
    "\n",
    "def drop_rocks(shapes, jet, num, part2=False, rep=1):\n",
    "    graph = {}\n",
    "    graph[(0,0)] = 0\n",
    "    height0 = []\n",
    "    \n",
    "    if part2:\n",
    "        num *= rep\n",
    "    \n",
    "    ji = 0\n",
    "    for i in range(0, num):       \n",
    "        shape = deepcopy(shapes[i%len(shapes)])\n",
    "        height = max(graph.values())\n",
    "        \n",
    "        if part2 and i % int(num/rep) == 0:\n",
    "            height0.append(height)\n",
    "        \n",
    "        #spawn rock\n",
    "        for i in range(0, len(shape)):\n",
    "            shape[i][1] += height+4\n",
    "            \n",
    "        flag = False\n",
    "        while flag == False:\n",
    "            j = jet[ji%len(jet)]\n",
    "            ji += 1\n",
    "            shape = slide(shape, j, graph)\n",
    "            shape, flag, graph = drop(shape, graph)\n",
    "        \n",
    "    if part2:\n",
    "        height0.append(max(graph.values()))\n",
    "        return height0\n",
    "    return max(graph.values())"
   ]
  },
  {
   "cell_type": "code",
   "execution_count": 4,
   "metadata": {},
   "outputs": [
    {
     "data": {
      "text/plain": [
       "3068"
      ]
     },
     "execution_count": 4,
     "metadata": {},
     "output_type": "execute_result"
    }
   ],
   "source": [
    "drop_rocks(shapes, test, 2022)"
   ]
  },
  {
   "cell_type": "code",
   "execution_count": 5,
   "metadata": {},
   "outputs": [
    {
     "name": "stdout",
     "output_type": "stream",
     "text": [
      "Part 1 result: 3149\n"
     ]
    }
   ],
   "source": [
    "with open('day17_input.txt', 'r') as f:\n",
    "    inpt = f.readlines()\n",
    "    f.close()\n",
    "inpt = inpt[0].strip()\n",
    "print('Part 1 result:', drop_rocks(shapes, inpt, 2022))"
   ]
  },
  {
   "cell_type": "markdown",
   "metadata": {},
   "source": [
    "# Part 2"
   ]
  },
  {
   "cell_type": "code",
   "execution_count": 6,
   "metadata": {},
   "outputs": [
    {
     "name": "stdout",
     "output_type": "stream",
     "text": [
      "200\n",
      "5\n",
      "12\n",
      "800\n",
      "1800\n",
      "Part 2 result: 1514285714288\n"
     ]
    }
   ],
   "source": [
    "def run_part2(shapes, jet):   \n",
    "    \n",
    "    num = len(shapes) * len(jet)\n",
    "    print(num)\n",
    "    \n",
    "    #get heights after num rocks\n",
    "    height0 = drop_rocks(shapes, jet, num, True, 20)\n",
    "    \n",
    "    #find repeating height after num rocks\n",
    "    dheight = 0\n",
    "    block = []\n",
    "    for i in range(1, len(height0)):\n",
    "        dh = height0[i] - height0[i-1]\n",
    "        if dh == dheight:\n",
    "            print(i)\n",
    "            block.append(i)\n",
    "        if len(block) == 2:\n",
    "            break\n",
    "        dheight = dh\n",
    "            \n",
    "    block_len = block[1]-block[0] #length/num of repeating block\n",
    "    block_height = height0[block[1]]-height0[block[0]] #height of repeating block\n",
    "\n",
    "    rocks = 1000000000000-(block[0]*num) #number of rocks that can repeat (i.e. n-burn_in)\n",
    "    iters = int(rocks // (block_len*num)) #number of repeating blocks\n",
    "    height = block_height*iters #height after repeated blocks\n",
    "    \n",
    "    remainder = int(rocks % (block_len*num)) #rocks that didn't repeat\n",
    "    print(remainder)\n",
    "    remainder += block[0]*num\n",
    "    print(remainder)\n",
    "    xs_height = drop_rocks(shapes, jet, remainder)\n",
    "    \n",
    "    height += xs_height\n",
    "    \n",
    "    print('Part 2 result:', height)\n",
    "    \n",
    "run_part2(shapes, test)"
   ]
  },
  {
   "cell_type": "code",
   "execution_count": null,
   "metadata": {},
   "outputs": [
    {
     "name": "stdout",
     "output_type": "stream",
     "text": [
      "50455\n"
     ]
    }
   ],
   "source": [
    "run_part2(shapes, inpt)"
   ]
  },
  {
   "cell_type": "code",
   "execution_count": null,
   "metadata": {},
   "outputs": [],
   "source": []
  }
 ],
 "metadata": {
  "kernelspec": {
   "display_name": "Python 3",
   "language": "python",
   "name": "python3"
  },
  "language_info": {
   "codemirror_mode": {
    "name": "ipython",
    "version": 3
   },
   "file_extension": ".py",
   "mimetype": "text/x-python",
   "name": "python",
   "nbconvert_exporter": "python",
   "pygments_lexer": "ipython3",
   "version": "3.8.5"
  }
 },
 "nbformat": 4,
 "nbformat_minor": 2
}
