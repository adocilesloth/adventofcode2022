{
 "cells": [
  {
   "cell_type": "markdown",
   "metadata": {},
   "source": [
    "# Part 1"
   ]
  },
  {
   "cell_type": "code",
   "execution_count": 1,
   "metadata": {},
   "outputs": [],
   "source": [
    "test = ['$ cd /',\n",
    "        '$ ls',\n",
    "        'dir a',\n",
    "        '14848514 b.txt',\n",
    "        '8504156 c.dat',\n",
    "        'dir d',\n",
    "        '$ cd a',\n",
    "        '$ ls',\n",
    "        'dir e',\n",
    "        '29116 f',\n",
    "        '2557 g',\n",
    "        '62596 h.lst',\n",
    "        '$ cd e',\n",
    "        '$ ls',\n",
    "        '584 i',\n",
    "        '$ cd ..',\n",
    "        '$ cd ..',\n",
    "        '$ cd d',\n",
    "        '$ ls',\n",
    "        '4060174 j',\n",
    "        '8033020 d.log',\n",
    "        '5626152 d.ext',\n",
    "        '7214296 k']"
   ]
  },
  {
   "cell_type": "code",
   "execution_count": 2,
   "metadata": {},
   "outputs": [],
   "source": [
    "class node():\n",
    "    def __init__(self,name,parent,size=0):\n",
    "        self.name = name\n",
    "        self.parent = parent\n",
    "        self.size = size\n",
    "        self.children = []\n",
    "        self.is_file = size>0\n",
    "        \n",
    "    def add_child(self, child):\n",
    "        self.children.append(child)\n",
    "        \n",
    "    def get_size(self):\n",
    "        if self.is_file == True:\n",
    "            return\n",
    "        for child in self.children:\n",
    "            self.size += child.size\n",
    "            \n",
    "def create_tree(data):\n",
    "    root = node('/', None)\n",
    "    cur_dir = root\n",
    "    path = ['/']\n",
    "    \n",
    "    for cmd in data:\n",
    "        cmd = cmd.split()\n",
    "        \n",
    "        if cmd[0] == '$': #command\n",
    "            if cmd[1] == 'ls':\n",
    "                pass\n",
    "            elif cmd[1] == 'cd':\n",
    "                if cmd[2] == '..':\n",
    "                    path.pop()\n",
    "                    cur_dir = cur_dir.parent\n",
    "                else:\n",
    "                    for child in cur_dir.children:\n",
    "                        if child.name == cmd[2] and child.is_file == False:\n",
    "                            cur_dir = child\n",
    "                            break\n",
    "                    path.append(cmd[2])\n",
    "                    \n",
    "        else:\n",
    "            if cmd[0] == 'dir':\n",
    "                tmp = node(cmd[1],cur_dir)\n",
    "            else:\n",
    "                tmp = node(cmd[1],cur_dir,int(cmd[0]))\n",
    "            cur_dir.add_child(tmp)\n",
    "            \n",
    "    dirs = dir_size(root)\n",
    "            \n",
    "    return root, dirs\n",
    "            \n",
    "def dir_size(cur_dir, dirs=None):\n",
    "    if dirs is None:\n",
    "        dirs = []\n",
    "    for child in cur_dir.children:\n",
    "        if child.is_file == False:\n",
    "            dirs = dir_size(child, dirs)\n",
    "            \n",
    "    cur_dir.get_size()\n",
    "    dirs.append((cur_dir.name, cur_dir.size))\n",
    "    \n",
    "    return dirs\n",
    "\n",
    "def part1(data):\n",
    "    root, dirs = create_tree(data)\n",
    "    psum = 0\n",
    "    for i in range(0, len(dirs)):\n",
    "        if dirs[i][1] <= 100000:\n",
    "            psum += dirs[i][1]\n",
    "    print('Part 1 result:', psum)"
   ]
  },
  {
   "cell_type": "code",
   "execution_count": 3,
   "metadata": {},
   "outputs": [
    {
     "name": "stdout",
     "output_type": "stream",
     "text": [
      "Part 1 result: 95437\n"
     ]
    }
   ],
   "source": [
    "part1(test)"
   ]
  },
  {
   "cell_type": "code",
   "execution_count": 4,
   "metadata": {},
   "outputs": [
    {
     "name": "stdout",
     "output_type": "stream",
     "text": [
      "Part 1 result: 1581595\n"
     ]
    }
   ],
   "source": [
    "with open('day7_input.txt', 'r') as f:\n",
    "    inpt = f.readlines()\n",
    "    f.close()\n",
    "part1(inpt)"
   ]
  },
  {
   "cell_type": "markdown",
   "metadata": {},
   "source": [
    "# Part 2"
   ]
  },
  {
   "cell_type": "code",
   "execution_count": 5,
   "metadata": {},
   "outputs": [],
   "source": [
    "def part2(data):\n",
    "    ttl_size = 70000000\n",
    "    tgt_size = 30000000\n",
    "    \n",
    "    root, dirs = create_tree(data)\n",
    "    fre_space = ttl_size - root.size\n",
    "    ned_space = tgt_size - fre_space\n",
    "    \n",
    "    xs = ttl_size\n",
    "    del_size = 0\n",
    "    for i in range(0, len(dirs)):\n",
    "        if dirs[i][1] > ned_space and dirs[i][1]-ned_space < xs:\n",
    "            xs = dirs[i][1]-ned_space\n",
    "            del_size = dirs[i][1]\n",
    "            \n",
    "    print('Part 2 result:', del_size)"
   ]
  },
  {
   "cell_type": "code",
   "execution_count": 6,
   "metadata": {},
   "outputs": [
    {
     "name": "stdout",
     "output_type": "stream",
     "text": [
      "Part 2 result: 24933642\n"
     ]
    }
   ],
   "source": [
    "part2(test)"
   ]
  },
  {
   "cell_type": "code",
   "execution_count": 7,
   "metadata": {},
   "outputs": [
    {
     "name": "stdout",
     "output_type": "stream",
     "text": [
      "Part 2 result: 1544176\n"
     ]
    }
   ],
   "source": [
    "part2(inpt)"
   ]
  },
  {
   "cell_type": "code",
   "execution_count": null,
   "metadata": {},
   "outputs": [],
   "source": []
  }
 ],
 "metadata": {
  "kernelspec": {
   "display_name": "Python 3",
   "language": "python",
   "name": "python3"
  },
  "language_info": {
   "codemirror_mode": {
    "name": "ipython",
    "version": 3
   },
   "file_extension": ".py",
   "mimetype": "text/x-python",
   "name": "python",
   "nbconvert_exporter": "python",
   "pygments_lexer": "ipython3",
   "version": "3.7.4"
  }
 },
 "nbformat": 4,
 "nbformat_minor": 2
}
