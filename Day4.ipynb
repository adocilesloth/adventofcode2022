{
 "cells": [
  {
   "cell_type": "code",
   "execution_count": 1,
   "metadata": {},
   "outputs": [],
   "source": [
    "import numpy as np"
   ]
  },
  {
   "cell_type": "markdown",
   "metadata": {},
   "source": [
    "# Part 1"
   ]
  },
  {
   "cell_type": "code",
   "execution_count": 2,
   "metadata": {},
   "outputs": [],
   "source": [
    "test = ['2-4,6-8','2-3,4-5','5-7,7-9','2-8,3-7','6-6,4-6','2-6,4-8']"
   ]
  },
  {
   "cell_type": "code",
   "execution_count": 3,
   "metadata": {},
   "outputs": [],
   "source": [
    "def overlap(data):\n",
    "    inside = 0\n",
    "    for d in data:\n",
    "        elf1, elf2 = d.split(',')\n",
    "        elf1 = elf1.split('-')\n",
    "        elf2 = elf2.split('-')\n",
    "        if (int(elf1[0]) <= int(elf2[0]) and int(elf1[-1]) >= int(elf2[-1])) or\\\n",
    "            (int(elf2[0]) <= int(elf1[0]) and int(elf2[-1]) >= int(elf1[-1])):\n",
    "            inside += 1\n",
    "    return inside"
   ]
  },
  {
   "cell_type": "code",
   "execution_count": 4,
   "metadata": {},
   "outputs": [
    {
     "name": "stdout",
     "output_type": "stream",
     "text": [
      "2\n"
     ]
    }
   ],
   "source": [
    "print(overlap(test))"
   ]
  },
  {
   "cell_type": "code",
   "execution_count": 5,
   "metadata": {},
   "outputs": [
    {
     "name": "stdout",
     "output_type": "stream",
     "text": [
      "Part 1 result: 444\n"
     ]
    }
   ],
   "source": [
    "inpt = np.genfromtxt('day4_input.txt', dtype=str)\n",
    "print('Part 1 result:', overlap(inpt))"
   ]
  },
  {
   "cell_type": "markdown",
   "metadata": {},
   "source": [
    "# Part 2"
   ]
  },
  {
   "cell_type": "code",
   "execution_count": 6,
   "metadata": {},
   "outputs": [],
   "source": [
    "def all_overlap(data):\n",
    "    inside = 0\n",
    "    for d in data:\n",
    "        elf1, elf2 = d.split(',')\n",
    "        elf1 = elf1.split('-')\n",
    "        elf2 = elf2.split('-')\n",
    "        if (int(elf1[0]) <= int(elf2[0]) and int(elf1[-1]) >= int(elf2[0])) or\\\n",
    "            (int(elf1[0]) <= int(elf2[-1]) and int(elf1[-1]) >= int(elf2[-1])) or\\\n",
    "            (int(elf2[0]) <= int(elf1[0]) and int(elf2[-1]) >= int(elf1[0])) or\\\n",
    "            (int(elf2[0]) <= int(elf1[-1]) and int(elf2[-1]) >= int(elf1[-1])):\n",
    "            inside += 1\n",
    "    return inside"
   ]
  },
  {
   "cell_type": "code",
   "execution_count": 7,
   "metadata": {},
   "outputs": [
    {
     "name": "stdout",
     "output_type": "stream",
     "text": [
      "4\n"
     ]
    }
   ],
   "source": [
    "print(all_overlap(test))"
   ]
  },
  {
   "cell_type": "code",
   "execution_count": 8,
   "metadata": {},
   "outputs": [
    {
     "name": "stdout",
     "output_type": "stream",
     "text": [
      "Part 2 result: 801\n"
     ]
    }
   ],
   "source": [
    "print('Part 2 result:', all_overlap(inpt))"
   ]
  }
 ],
 "metadata": {
  "kernelspec": {
   "display_name": "Python 3",
   "language": "python",
   "name": "python3"
  },
  "language_info": {
   "codemirror_mode": {
    "name": "ipython",
    "version": 3
   },
   "file_extension": ".py",
   "mimetype": "text/x-python",
   "name": "python",
   "nbconvert_exporter": "python",
   "pygments_lexer": "ipython3",
   "version": "3.7.4"
  }
 },
 "nbformat": 4,
 "nbformat_minor": 2
}
