{
 "cells": [
  {
   "cell_type": "code",
   "execution_count": 1,
   "metadata": {},
   "outputs": [],
   "source": [
    "from collections import defaultdict"
   ]
  },
  {
   "cell_type": "markdown",
   "metadata": {},
   "source": [
    "# Part 1"
   ]
  },
  {
   "cell_type": "code",
   "execution_count": 2,
   "metadata": {},
   "outputs": [],
   "source": [
    "test = ['    [D]    ',\n",
    "        '[N] [C]    ',\n",
    "        '[Z] [M] [P]',\n",
    "        ' 1   2   3 ',\n",
    "        '',\n",
    "        'move 1 from 2 to 1',\n",
    "        'move 3 from 1 to 3',\n",
    "        'move 2 from 2 to 1',\n",
    "        'move 1 from 1 to 2']"
   ]
  },
  {
   "cell_type": "code",
   "execution_count": 3,
   "metadata": {},
   "outputs": [],
   "source": [
    "def get_stacks(data):\n",
    "    stacks = defaultdict(list)\n",
    "    for i in range(0, len(data)):\n",
    "        line = data[i]\n",
    "        for j in range(1, len(line), 4):\n",
    "            if line[j] == '1':\n",
    "                break\n",
    "            elif line[j] != ' ':\n",
    "                stacks[(j//4)+1].append(line[j])\n",
    "        if line[j] == '1':\n",
    "            break\n",
    "            \n",
    "    data = data[i+2:]\n",
    "            \n",
    "    for key in stacks.keys():\n",
    "        stacks[key].reverse()\n",
    "    return stacks, data\n",
    "\n",
    "def move_crates_9000(stacks, data):\n",
    "    for i in range(0, len(data)):\n",
    "        command = data[i].split(' ')\n",
    "        num = int(command[1])\n",
    "        frm = int(command[3])\n",
    "        too = int(command[5])\n",
    "        \n",
    "        for j in range(0, num):\n",
    "            if len(stacks[frm]) == 0:\n",
    "                break\n",
    "            crate = stacks[frm].pop()\n",
    "            stacks[too].append(crate)\n",
    "    return stacks\n",
    "\n",
    "def move_crates_9001(stacks, data):\n",
    "    for i in range(0, len(data)):\n",
    "        command = data[i].split(' ')\n",
    "        num = int(command[1])\n",
    "        frm = int(command[3])\n",
    "        too = int(command[5])\n",
    "        \n",
    "        if len(stacks[frm]) < num:\n",
    "            num = len(stacks[frm])\n",
    "        crate = stacks[frm][-num:]\n",
    "        stacks[frm] = stacks[frm][:-num]\n",
    "        for c in crate:\n",
    "            stacks[too].append(c)\n",
    "                  \n",
    "    return stacks\n",
    "\n",
    "def run(data, part):\n",
    "    stacks, data = get_stacks(data)\n",
    "    if part == 1:\n",
    "        stacks = move_crates_9000(stacks, data)\n",
    "    elif part == 2:\n",
    "        stacks = move_crates_9001(stacks, data)\n",
    "    \n",
    "    num = len(stacks.keys())\n",
    "    result = ''\n",
    "    for i in range(1, num+1):\n",
    "        if len(stacks[i]) == 0:\n",
    "            continue\n",
    "        result += stacks[i][-1]\n",
    "    \n",
    "    print('Part', part, 'result:', result)"
   ]
  },
  {
   "cell_type": "code",
   "execution_count": 4,
   "metadata": {},
   "outputs": [
    {
     "name": "stdout",
     "output_type": "stream",
     "text": [
      "Part 1 result: CMZ\n"
     ]
    }
   ],
   "source": [
    "run(test, 1)"
   ]
  },
  {
   "cell_type": "code",
   "execution_count": 5,
   "metadata": {},
   "outputs": [
    {
     "name": "stdout",
     "output_type": "stream",
     "text": [
      "Part 1 result: RLFNRTNFB\n"
     ]
    }
   ],
   "source": [
    "with open('day5_input.txt', 'r') as f:\n",
    "    inpt = f.readlines()\n",
    "    f.close()\n",
    "run(inpt, 1)"
   ]
  },
  {
   "cell_type": "markdown",
   "metadata": {},
   "source": [
    "# Part 2"
   ]
  },
  {
   "cell_type": "code",
   "execution_count": 6,
   "metadata": {},
   "outputs": [
    {
     "name": "stdout",
     "output_type": "stream",
     "text": [
      "Part 2 result: MCD\n"
     ]
    }
   ],
   "source": [
    "run(test, 2)"
   ]
  },
  {
   "cell_type": "code",
   "execution_count": 7,
   "metadata": {},
   "outputs": [
    {
     "name": "stdout",
     "output_type": "stream",
     "text": [
      "Part 2 result: MHQTLJRLB\n"
     ]
    }
   ],
   "source": [
    "run(inpt, 2)"
   ]
  },
  {
   "cell_type": "code",
   "execution_count": null,
   "metadata": {},
   "outputs": [],
   "source": []
  }
 ],
 "metadata": {
  "kernelspec": {
   "display_name": "Python 3",
   "language": "python",
   "name": "python3"
  },
  "language_info": {
   "codemirror_mode": {
    "name": "ipython",
    "version": 3
   },
   "file_extension": ".py",
   "mimetype": "text/x-python",
   "name": "python",
   "nbconvert_exporter": "python",
   "pygments_lexer": "ipython3",
   "version": "3.6.9"
  }
 },
 "nbformat": 4,
 "nbformat_minor": 4
}
