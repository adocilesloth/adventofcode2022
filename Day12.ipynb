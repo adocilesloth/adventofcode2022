{
 "cells": [
  {
   "cell_type": "code",
   "execution_count": 1,
   "id": "minimal-martial",
   "metadata": {},
   "outputs": [],
   "source": [
    "import numpy as np\n",
    "from collections import deque"
   ]
  },
  {
   "cell_type": "markdown",
   "id": "isolated-consumption",
   "metadata": {},
   "source": [
    "# Part 1"
   ]
  },
  {
   "cell_type": "code",
   "execution_count": 2,
   "id": "isolated-obligation",
   "metadata": {},
   "outputs": [],
   "source": [
    "test = ['Sabqponm',\n",
    "        'abcryxxl',\n",
    "        'accszExk',\n",
    "        'acctuvwj',\n",
    "        'abdefghi']"
   ]
  },
  {
   "cell_type": "code",
   "execution_count": 3,
   "id": "civic-meter",
   "metadata": {},
   "outputs": [],
   "source": [
    "def make_graph(data):\n",
    "    shape = (len(data), len(data[0]))\n",
    "    num_map = np.ones(shape, dtype=int)\n",
    "    \n",
    "    for i in range(0, len(data)):\n",
    "        for j in range(0, len(data[i])):\n",
    "            if data[i][j] == 'S':\n",
    "                start = (i,j)\n",
    "                num_map[i][j] = ord('a')-97\n",
    "            elif data[i][j] == 'E':\n",
    "                end = (i,j)\n",
    "                num_map[i][j] = ord('z')-97\n",
    "            else:\n",
    "                num_map[i][j] = ord(data[i][j])-97\n",
    "                \n",
    "    return num_map, start, end\n",
    "\n",
    "#Check if position is traversable\n",
    "def good_pos(graph, pos, cur_val):\n",
    "    x = pos[0]\n",
    "    y = pos[1]\n",
    "    if x < 0 or x >= len(graph):\n",
    "        return False\n",
    "    if y < 0 or y >= len(graph[x]):\n",
    "        return False\n",
    "    value = graph[x][y]\n",
    "    return value-cur_val <= 1\n",
    "\n",
    "#Breadth-First Search\n",
    "def BFS(graph, start, end=None):\n",
    "    dx = [-1, 1]\n",
    "    dy = [-1, 1]\n",
    "    queue = deque([start])\n",
    "    dist = {start: 0}\n",
    "    \n",
    "    while len(queue):\n",
    "        cur_pos = queue.popleft()\n",
    "        cur_dist = dist[cur_pos]\n",
    "        cur_val = graph[cur_pos[0]][cur_pos[1]]\n",
    "        if cur_pos == end:\n",
    "            return cur_dist\n",
    "        for i in range(0, 2):\n",
    "            nxt_dist = cur_dist + 1\n",
    "            #move in x\n",
    "            nxt_pos = (cur_pos[0]+dx[i], cur_pos[1])\n",
    "            if good_pos(graph, nxt_pos, cur_val) and nxt_pos not in dist.keys():\n",
    "                queue.append(nxt_pos)\n",
    "                dist[nxt_pos] = nxt_dist\n",
    "            #move in y\n",
    "            nxt_pos = (cur_pos[0], cur_pos[1]+dy[i])\n",
    "            if good_pos(graph, nxt_pos, cur_val) and nxt_pos not in dist.keys():\n",
    "                queue.append(nxt_pos)\n",
    "                dist[nxt_pos] = nxt_dist\n",
    "                \n",
    "    #min_dist = 0\n",
    "    #for key in dist.keys():\n",
    "    #    if dist[key] < min_dist:\n",
    "    #        min_dist = dist[key]\n",
    "    #return min_dist\n",
    "    return -1\n",
    "\n",
    "def run_part1(data):\n",
    "    graph, start, end = make_graph(data)\n",
    "    print('Part 1 result:', BFS(graph, start, end))"
   ]
  },
  {
   "cell_type": "code",
   "execution_count": 4,
   "id": "detailed-democrat",
   "metadata": {},
   "outputs": [
    {
     "name": "stdout",
     "output_type": "stream",
     "text": [
      "Part 1 result: 31\n"
     ]
    }
   ],
   "source": [
    "run_part1(test)"
   ]
  },
  {
   "cell_type": "code",
   "execution_count": 5,
   "id": "designed-bones",
   "metadata": {},
   "outputs": [
    {
     "name": "stdout",
     "output_type": "stream",
     "text": [
      "Part 1 result: 339\n"
     ]
    }
   ],
   "source": [
    "inpt = np.genfromtxt('day12_input.txt', dtype=str)\n",
    "run_part1(inpt)"
   ]
  },
  {
   "cell_type": "markdown",
   "id": "intellectual-screw",
   "metadata": {},
   "source": [
    "# Part 2"
   ]
  },
  {
   "cell_type": "code",
   "execution_count": 6,
   "id": "hindu-check",
   "metadata": {},
   "outputs": [],
   "source": [
    "def run_part2(data):\n",
    "    graph, start, end = make_graph(data)\n",
    "    start_pos = np.array(np.where(graph == 0)).T\n",
    "    \n",
    "    dists = []\n",
    "    for start in start_pos:\n",
    "        dists.append(BFS(graph, (start[0],start[1]), end))\n",
    "    dists = np.array(dists)\n",
    "    pve = np.where(dists>0)[0]\n",
    "    print('Part 2 result:', np.min(dists[pve]))"
   ]
  },
  {
   "cell_type": "code",
   "execution_count": 7,
   "id": "promising-multimedia",
   "metadata": {},
   "outputs": [
    {
     "name": "stdout",
     "output_type": "stream",
     "text": [
      "Part 2 result: 29\n"
     ]
    }
   ],
   "source": [
    "run_part2(test)"
   ]
  },
  {
   "cell_type": "code",
   "execution_count": 8,
   "id": "lightweight-prototype",
   "metadata": {},
   "outputs": [
    {
     "name": "stdout",
     "output_type": "stream",
     "text": [
      "Part 2 result: 332\n"
     ]
    }
   ],
   "source": [
    "run_part2(inpt)"
   ]
  },
  {
   "cell_type": "code",
   "execution_count": null,
   "id": "sensitive-representative",
   "metadata": {},
   "outputs": [],
   "source": []
  }
 ],
 "metadata": {
  "kernelspec": {
   "display_name": "Python 3",
   "language": "python",
   "name": "python3"
  },
  "language_info": {
   "codemirror_mode": {
    "name": "ipython",
    "version": 3
   },
   "file_extension": ".py",
   "mimetype": "text/x-python",
   "name": "python",
   "nbconvert_exporter": "python",
   "pygments_lexer": "ipython3",
   "version": "3.8.10"
  }
 },
 "nbformat": 4,
 "nbformat_minor": 5
}
