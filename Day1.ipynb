{
 "cells": [
  {
   "cell_type": "code",
   "execution_count": 1,
   "metadata": {},
   "outputs": [],
   "source": [
    "import numpy as np"
   ]
  },
  {
   "cell_type": "markdown",
   "metadata": {},
   "source": [
    "# Part 1"
   ]
  },
  {
   "cell_type": "code",
   "execution_count": 2,
   "metadata": {},
   "outputs": [],
   "source": [
    "def pack_elves(data):\n",
    "    food = data.split('\\n')\n",
    "    elves = []\n",
    "    elf = []\n",
    "    for i in range(0, len(food)):\n",
    "        if food[i] == '':\n",
    "            elves.append(elf)\n",
    "            elf = []\n",
    "        else:\n",
    "            elf.append(int(food[i]))\n",
    "    return elves"
   ]
  },
  {
   "cell_type": "code",
   "execution_count": 3,
   "metadata": {},
   "outputs": [],
   "source": [
    "def max_calories(elves):\n",
    "    calories = 0\n",
    "    calrtie_i = -1\n",
    "    for i in range(0, len(elves)):\n",
    "        elf = elves[i]\n",
    "        if sum(elf) > calories:\n",
    "            calories = sum(elf)\n",
    "            calorie_i = i\n",
    "    return calories, calorie_i"
   ]
  },
  {
   "cell_type": "code",
   "execution_count": 4,
   "metadata": {},
   "outputs": [
    {
     "name": "stdout",
     "output_type": "stream",
     "text": [
      "24000\n"
     ]
    }
   ],
   "source": [
    "test = '1000\\n2000\\n3000\\n\\n4000\\n\\n5000\\n6000\\n\\n7000\\n8000\\n9000\\n\\n10000\\n'\n",
    "carried = pack_elves(test)\n",
    "print(max_calories(carried)[0])"
   ]
  },
  {
   "cell_type": "code",
   "execution_count": 5,
   "metadata": {},
   "outputs": [
    {
     "name": "stdout",
     "output_type": "stream",
     "text": [
      "Part 1 Result: 69501\n"
     ]
    }
   ],
   "source": [
    "inpt = open(\"day1_input.txt\", \"r\")\n",
    "inpt = inpt.read()\n",
    "if inpt[-1] != '\\n':\n",
    "    inpt += '\\n'\n",
    "carried = pack_elves(inpt)\n",
    "print('Part 1 Result:', max_calories(carried)[0])"
   ]
  },
  {
   "cell_type": "markdown",
   "metadata": {},
   "source": [
    "# Part 2"
   ]
  },
  {
   "cell_type": "code",
   "execution_count": 6,
   "metadata": {},
   "outputs": [],
   "source": [
    "def max_3_calories(elves):\n",
    "    calories = 0\n",
    "    for i in range(0, 3):\n",
    "        cal, idx = max_calories(elves)\n",
    "        calories += cal\n",
    "        del elves[idx]\n",
    "    return calories"
   ]
  },
  {
   "cell_type": "code",
   "execution_count": 7,
   "metadata": {},
   "outputs": [
    {
     "name": "stdout",
     "output_type": "stream",
     "text": [
      "45000\n"
     ]
    }
   ],
   "source": [
    "carried = pack_elves(test)\n",
    "print(max_3_calories(carried))"
   ]
  },
  {
   "cell_type": "code",
   "execution_count": 8,
   "metadata": {},
   "outputs": [
    {
     "name": "stdout",
     "output_type": "stream",
     "text": [
      "Part 2 Result: 202346\n"
     ]
    }
   ],
   "source": [
    "carried = pack_elves(inpt)\n",
    "print('Part 2 Result:', max_3_calories(carried))"
   ]
  },
  {
   "cell_type": "code",
   "execution_count": null,
   "metadata": {},
   "outputs": [],
   "source": []
  }
 ],
 "metadata": {
  "kernelspec": {
   "display_name": "Python 3",
   "language": "python",
   "name": "python3"
  },
  "language_info": {
   "codemirror_mode": {
    "name": "ipython",
    "version": 3
   },
   "file_extension": ".py",
   "mimetype": "text/x-python",
   "name": "python",
   "nbconvert_exporter": "python",
   "pygments_lexer": "ipython3",
   "version": "3.6.9"
  }
 },
 "nbformat": 4,
 "nbformat_minor": 4
}
