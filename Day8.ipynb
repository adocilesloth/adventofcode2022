{
 "cells": [
  {
   "cell_type": "code",
   "execution_count": 1,
   "metadata": {},
   "outputs": [],
   "source": [
    "import numpy as np"
   ]
  },
  {
   "cell_type": "markdown",
   "metadata": {},
   "source": [
    "# Part 1"
   ]
  },
  {
   "cell_type": "code",
   "execution_count": 2,
   "metadata": {},
   "outputs": [],
   "source": [
    "test = np.array([[3,0,3,7,3],\n",
    "                 [2,5,5,1,2],\n",
    "                 [6,5,3,3,2],\n",
    "                 [3,3,5,4,9],\n",
    "                 [3,5,3,9,0]])"
   ]
  },
  {
   "cell_type": "code",
   "execution_count": 3,
   "metadata": {},
   "outputs": [],
   "source": [
    "def get_visible(data):\n",
    "    is_hidden = np.ones_like(data, dtype=bool)\n",
    "    \n",
    "    for i in range(0, 10):\n",
    "        test_set = np.array(np.where(data == i)).T\n",
    "        if test_set is None:\n",
    "            continue\n",
    "        \n",
    "        for ts in test_set:\n",
    "            check = np.where(data[ts[0],:ts[1]] >= i)[0]\n",
    "            if len(check) == 0:\n",
    "                is_hidden[ts[0],ts[1]] = False\n",
    "                continue\n",
    "                \n",
    "            check = np.where(data[ts[0],ts[1]+1:] >= i)[0]\n",
    "            if len(check) == 0:\n",
    "                is_hidden[ts[0],ts[1]] = False\n",
    "                continue\n",
    "                \n",
    "            check = np.where(data[:ts[0],ts[1]] >= i)[0]\n",
    "            if len(check) == 0:\n",
    "                is_hidden[ts[0],ts[1]] = False\n",
    "                continue\n",
    "                \n",
    "            check = np.where(data[ts[0]+1:,ts[1]] >= i)[0]\n",
    "            if len(check) == 0:\n",
    "                is_hidden[ts[0],ts[1]] = False\n",
    "                continue\n",
    "                \n",
    "    return np.invert(is_hidden)"
   ]
  },
  {
   "cell_type": "code",
   "execution_count": 4,
   "metadata": {},
   "outputs": [
    {
     "name": "stdout",
     "output_type": "stream",
     "text": [
      "[[ True  True  True  True  True]\n",
      " [ True  True  True False  True]\n",
      " [ True  True False  True  True]\n",
      " [ True False  True False  True]\n",
      " [ True  True  True  True  True]]\n",
      "21\n"
     ]
    }
   ],
   "source": [
    "print(get_visible(test))\n",
    "print(np.sum(get_visible(test)))"
   ]
  },
  {
   "cell_type": "code",
   "execution_count": 5,
   "metadata": {},
   "outputs": [
    {
     "name": "stdout",
     "output_type": "stream",
     "text": [
      "Part 1 result: 1789\n"
     ]
    }
   ],
   "source": [
    "inpt = np.genfromtxt('day8_input.txt', delimiter=1, dtype=int)\n",
    "print('Part 1 result:', np.sum(get_visible(inpt)))"
   ]
  },
  {
   "cell_type": "markdown",
   "metadata": {},
   "source": [
    "# Part 2"
   ]
  },
  {
   "cell_type": "code",
   "execution_count": 6,
   "metadata": {},
   "outputs": [],
   "source": [
    "def get_score(data):   \n",
    "    score = 0\n",
    "    for i in range(0, len(data)):\n",
    "        if i == 0 or i == len(data)-1:\n",
    "            continue\n",
    "        for j in range(0, len(data[i])):\n",
    "            if j == 0 or j == len(data[i])-1:\n",
    "                continue\n",
    "            tree = [i,j]\n",
    "\n",
    "            count = 0\n",
    "            for k in range(tree[1]+1, len(data[tree[0]])):\n",
    "                if data[tree[0],k] < data[tree[0],tree[1]]:\n",
    "                    count += 1\n",
    "                else:\n",
    "                    count += 1\n",
    "                    break\n",
    "            tree_score = count\n",
    "\n",
    "            count = 0\n",
    "            for k in range(tree[1]-1, -1, -1):\n",
    "                if data[tree[0],k] < data[tree[0],tree[1]]:\n",
    "                    count += 1\n",
    "                else:\n",
    "                    count += 1\n",
    "                    break\n",
    "            tree_score *= count\n",
    "\n",
    "            count = 0\n",
    "            for k in range(tree[0]+1, len(data)):\n",
    "                if data[k,tree[1]] < data[tree[0],tree[1]]:\n",
    "                    count += 1\n",
    "                else:\n",
    "                    count += 1\n",
    "                    break\n",
    "            tree_score *= count\n",
    "\n",
    "            count = 0\n",
    "            for k in range(tree[0]-1, -1, -1):\n",
    "                if data[k,tree[1]] < data[tree[0],tree[1]]:\n",
    "                    count += 1\n",
    "                else:\n",
    "                    count += 1\n",
    "                    break\n",
    "            tree_score *= count\n",
    "\n",
    "            if tree_score > score:\n",
    "                score = tree_score\n",
    "            \n",
    "    return score"
   ]
  },
  {
   "cell_type": "code",
   "execution_count": 7,
   "metadata": {},
   "outputs": [
    {
     "name": "stdout",
     "output_type": "stream",
     "text": [
      "8\n"
     ]
    }
   ],
   "source": [
    "print(get_score(test))"
   ]
  },
  {
   "cell_type": "code",
   "execution_count": 8,
   "metadata": {},
   "outputs": [
    {
     "name": "stdout",
     "output_type": "stream",
     "text": [
      "Part 1 result: 314820\n"
     ]
    }
   ],
   "source": [
    "print('Part 1 result:', get_score(inpt))"
   ]
  },
  {
   "cell_type": "code",
   "execution_count": null,
   "metadata": {},
   "outputs": [],
   "source": []
  }
 ],
 "metadata": {
  "kernelspec": {
   "display_name": "Python 3",
   "language": "python",
   "name": "python3"
  },
  "language_info": {
   "codemirror_mode": {
    "name": "ipython",
    "version": 3
   },
   "file_extension": ".py",
   "mimetype": "text/x-python",
   "name": "python",
   "nbconvert_exporter": "python",
   "pygments_lexer": "ipython3",
   "version": "3.7.4"
  }
 },
 "nbformat": 4,
 "nbformat_minor": 2
}
