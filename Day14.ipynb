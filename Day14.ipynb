{
 "cells": [
  {
   "cell_type": "code",
   "execution_count": 1,
   "metadata": {},
   "outputs": [],
   "source": [
    "import numpy as np"
   ]
  },
  {
   "cell_type": "markdown",
   "metadata": {},
   "source": [
    "# Part 1"
   ]
  },
  {
   "cell_type": "code",
   "execution_count": 2,
   "metadata": {},
   "outputs": [],
   "source": [
    "test = ['498,4 -> 498,6 -> 496,6',\n",
    "        '503,4 -> 502,4 -> 502,9 -> 494,9']"
   ]
  },
  {
   "cell_type": "code",
   "execution_count": 3,
   "metadata": {},
   "outputs": [],
   "source": [
    "def build_cave(data):\n",
    "    cave = {}\n",
    "    ylim = 0\n",
    "    for line in data:\n",
    "        line = line.strip().split(' -> ')\n",
    "        for i in range(0, len(line)-1):\n",
    "            x1,y1 = line[i].split(',')\n",
    "            x2,y2 = line[i+1].split(',')\n",
    "            \n",
    "            x1,y1 = int(x1),int(y1)\n",
    "            x2,y2 = int(x2),int(y2)\n",
    "            \n",
    "            if x1 != x2: #verticle line\n",
    "                if x2 > x1:\n",
    "                    for x in range(x1, x2+1):\n",
    "                        cave[(x,y1)] = 1\n",
    "                else:\n",
    "                    for x in range(x2, x1+1):\n",
    "                        cave[(x,y1)] = 1\n",
    "            elif y1 != y2:\n",
    "                if y2 > y1:\n",
    "                    for y in range(y1, y2+1):\n",
    "                        cave[(x1,y)] = 1\n",
    "                else:\n",
    "                    for y in range(y2, y1+1):\n",
    "                        cave[(x1,y)] = 1\n",
    "                        \n",
    "            if y1 > ylim:\n",
    "                ylim = y1\n",
    "            if y2 > ylim:\n",
    "                ylim = y2\n",
    "                \n",
    "    cave_l = list(cave.keys())\n",
    "    for i in range(0, len(cave_l)):\n",
    "        cave_l[i] = np.array(list(cave_l[i]))\n",
    "    cave_l = np.array(cave_l)\n",
    "                \n",
    "    return cave_l, ylim\n",
    "\n",
    "def fill_sand(cave, ylim):\n",
    "    count = 0\n",
    "    run = True\n",
    "    while run:\n",
    "        #spawn sand\n",
    "        if cave[-1,0] == [500] and cave[-1,1] == 0:\n",
    "            break\n",
    "        sand = [500,0]\n",
    "        \n",
    "        while True:\n",
    "            #drop\n",
    "            can_drop = np.where(np.logical_and(cave[:,0] == sand[0], cave[:,1] > sand[1]))[0]\n",
    "            if len(can_drop) == 0:\n",
    "                run = False\n",
    "                break\n",
    "            new_y = np.min(cave[can_drop,1]) - 1\n",
    "            sand[1] = new_y\n",
    "\n",
    "            #check left\n",
    "            down_left = np.where(np.logical_and(cave[:,0] == sand[0]-1, cave[:,1] == sand[1]+1))[0]\n",
    "            if len(down_left) == 0:\n",
    "                sand[0] -= 1\n",
    "                sand[1] += 1\n",
    "                continue\n",
    "            #check right\n",
    "            down_right = np.where(np.logical_and(cave[:,0] == sand[0]+1, cave[:,1] == sand[1]+1))[0]\n",
    "            if len(down_right) == 0:\n",
    "                sand[0] += 1\n",
    "                sand[1] += 1\n",
    "                continue\n",
    "                \n",
    "            #cannot move, so add position\n",
    "            cave = np.vstack((cave, sand))\n",
    "            count += 1\n",
    "            break\n",
    "        \n",
    "    return count\n",
    "\n",
    "def add_floor(cave, ylim):\n",
    "    for x in range(-500, 1001):\n",
    "        cave = np.vstack((cave, [x,ylim+2]))\n",
    "    return cave, ylim+2\n",
    "\n",
    "def run(data, part=1):\n",
    "    cave, ylim = build_cave(data)\n",
    "    if part==2:\n",
    "        cave, ylim = add_floor(cave, ylim)\n",
    "    count = fill_sand(cave, ylim)\n",
    "    print('Part 1 result:', count)"
   ]
  },
  {
   "cell_type": "code",
   "execution_count": 4,
   "metadata": {},
   "outputs": [
    {
     "name": "stdout",
     "output_type": "stream",
     "text": [
      "Part 1 result: 24\n"
     ]
    }
   ],
   "source": [
    "run(test)"
   ]
  },
  {
   "cell_type": "code",
   "execution_count": 5,
   "metadata": {},
   "outputs": [
    {
     "name": "stdout",
     "output_type": "stream",
     "text": [
      "Part 1 result: 674\n"
     ]
    }
   ],
   "source": [
    "with open('day14_input.txt', 'r') as f:\n",
    "    inpt = f.readlines()\n",
    "    f.close()\n",
    "run(inpt)"
   ]
  },
  {
   "cell_type": "markdown",
   "metadata": {},
   "source": [
    "# Part 2"
   ]
  },
  {
   "cell_type": "code",
   "execution_count": 6,
   "metadata": {},
   "outputs": [
    {
     "name": "stdout",
     "output_type": "stream",
     "text": [
      "Part 1 result: 93\n"
     ]
    }
   ],
   "source": [
    "run(test, 2)"
   ]
  },
  {
   "cell_type": "code",
   "execution_count": 7,
   "metadata": {},
   "outputs": [
    {
     "name": "stdout",
     "output_type": "stream",
     "text": [
      "Part 1 result: 24958\n"
     ]
    }
   ],
   "source": [
    "run(inpt, 2)"
   ]
  },
  {
   "cell_type": "code",
   "execution_count": null,
   "metadata": {},
   "outputs": [],
   "source": []
  }
 ],
 "metadata": {
  "kernelspec": {
   "display_name": "Python 3",
   "language": "python",
   "name": "python3"
  },
  "language_info": {
   "codemirror_mode": {
    "name": "ipython",
    "version": 3
   },
   "file_extension": ".py",
   "mimetype": "text/x-python",
   "name": "python",
   "nbconvert_exporter": "python",
   "pygments_lexer": "ipython3",
   "version": "3.7.4"
  }
 },
 "nbformat": 4,
 "nbformat_minor": 2
}
