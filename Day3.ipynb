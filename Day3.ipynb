{
 "cells": [
  {
   "cell_type": "code",
   "execution_count": 1,
   "metadata": {},
   "outputs": [],
   "source": [
    "import numpy as np"
   ]
  },
  {
   "cell_type": "markdown",
   "metadata": {},
   "source": [
    "# Part 1"
   ]
  },
  {
   "cell_type": "code",
   "execution_count": 2,
   "metadata": {},
   "outputs": [],
   "source": [
    "test = ['vJrwpWtwJgWrhcsFMMfFFhFp',\n",
    "        'jqHRNqRjqzjGDLGLrsFMfFZSrLrFZsSL',\n",
    "        'PmmdzqPrVvPwwTWBwg',\n",
    "        'wMqvLMZHhHMvwLHjbvcjnnSBnvTQFn',\n",
    "        'ttgJtRGJQctTZtZT',\n",
    "        'CrZsJsPPZsGzwwsLwLpwMDw']"
   ]
  },
  {
   "cell_type": "code",
   "execution_count": 3,
   "metadata": {},
   "outputs": [],
   "source": [
    "def common_elements(data):\n",
    "    common = []\n",
    "    for line in data:\n",
    "        p = len(line)//2\n",
    "        pockets = [line[:p],line[p:]]\n",
    "        for c in set(pockets[0]):\n",
    "            if c in pockets[1]:\n",
    "                common.append(c)\n",
    "    return common\n",
    "\n",
    "def char_to_prio(chars):\n",
    "    score = 'abcdefghijklmnopqrstuvwxyzABCDEFGHIJKLMNOPQRSTUVWXYZ'\n",
    "    prio = 0\n",
    "    for char in chars:\n",
    "        prio += score.index(char)+1\n",
    "    return prio"
   ]
  },
  {
   "cell_type": "code",
   "execution_count": 4,
   "metadata": {},
   "outputs": [
    {
     "name": "stdout",
     "output_type": "stream",
     "text": [
      "['p', 'L', 'P', 'v', 't', 's'] 157\n"
     ]
    }
   ],
   "source": [
    "chars = common_elements(test)\n",
    "prio = char_to_prio(chars)\n",
    "print(chars, prio)"
   ]
  },
  {
   "cell_type": "code",
   "execution_count": 5,
   "metadata": {},
   "outputs": [
    {
     "name": "stdout",
     "output_type": "stream",
     "text": [
      "Part 1 result: 7746\n"
     ]
    }
   ],
   "source": [
    "inpt = np.genfromtxt('day3_input.txt', dtype=str)\n",
    "chars = common_elements(inpt)\n",
    "prio = char_to_prio(chars)\n",
    "print('Part 1 result:', prio)"
   ]
  },
  {
   "cell_type": "markdown",
   "metadata": {},
   "source": [
    "# Part 2"
   ]
  },
  {
   "cell_type": "code",
   "execution_count": 6,
   "metadata": {},
   "outputs": [],
   "source": [
    "def get_badges(data):\n",
    "    common = []\n",
    "    for i in range(0, len(data), 3):\n",
    "        line = data[i:i+3]\n",
    "        for c in set(line[0]):\n",
    "            if c in line[1] and c in line[2]:\n",
    "                common += c\n",
    "    return common"
   ]
  },
  {
   "cell_type": "code",
   "execution_count": 7,
   "metadata": {},
   "outputs": [
    {
     "name": "stdout",
     "output_type": "stream",
     "text": [
      "['r', 'Z'] 70\n"
     ]
    }
   ],
   "source": [
    "chars = get_badges(test)\n",
    "prio = char_to_prio(chars)\n",
    "print(chars, prio)"
   ]
  },
  {
   "cell_type": "code",
   "execution_count": 8,
   "metadata": {},
   "outputs": [
    {
     "name": "stdout",
     "output_type": "stream",
     "text": [
      "Part 2 result: 2604\n"
     ]
    }
   ],
   "source": [
    "chars = get_badges(inpt)\n",
    "prio = char_to_prio(chars)\n",
    "print('Part 2 result:', prio)"
   ]
  },
  {
   "cell_type": "code",
   "execution_count": null,
   "metadata": {},
   "outputs": [],
   "source": []
  }
 ],
 "metadata": {
  "kernelspec": {
   "display_name": "Python 3",
   "language": "python",
   "name": "python3"
  },
  "language_info": {
   "codemirror_mode": {
    "name": "ipython",
    "version": 3
   },
   "file_extension": ".py",
   "mimetype": "text/x-python",
   "name": "python",
   "nbconvert_exporter": "python",
   "pygments_lexer": "ipython3",
   "version": "3.7.4"
  }
 },
 "nbformat": 4,
 "nbformat_minor": 2
}
