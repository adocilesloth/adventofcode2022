{
 "cells": [
  {
   "cell_type": "markdown",
   "metadata": {},
   "source": [
    "# Part 1"
   ]
  },
  {
   "cell_type": "code",
   "execution_count": 1,
   "metadata": {},
   "outputs": [],
   "source": [
    "tests = ['mjqjpqmgbljsphdztnvjfqwrcgsmlb',\n",
    "         'bvwbjplbgvbhsrlpgdmjqwftvncz',\n",
    "         'nppdvjthqldpwncqszvftbrmjlhg',\n",
    "         'nznrnfrfntjfmvfwmzdfjlvtqnbhcprsg',\n",
    "         'zcfzfwzzqfrljwzlrfnpqdbhtmscgvjw']"
   ]
  },
  {
   "cell_type": "code",
   "execution_count": 2,
   "metadata": {},
   "outputs": [],
   "source": [
    "def start_of_packet(data):\n",
    "    for i in range(3, len(data)):\n",
    "        if len(set(data[i-3:i+1])) == 4:\n",
    "            return i+1\n",
    "    return -1"
   ]
  },
  {
   "cell_type": "code",
   "execution_count": 3,
   "metadata": {},
   "outputs": [
    {
     "name": "stdout",
     "output_type": "stream",
     "text": [
      "7\n",
      "5\n",
      "6\n",
      "10\n",
      "11\n"
     ]
    }
   ],
   "source": [
    "for test in tests:\n",
    "    print(start_of_packet(test))"
   ]
  },
  {
   "cell_type": "code",
   "execution_count": 4,
   "metadata": {},
   "outputs": [
    {
     "name": "stdout",
     "output_type": "stream",
     "text": [
      "Part 1 result: 1896\n"
     ]
    }
   ],
   "source": [
    "with open('day6_input.txt', 'r') as f:\n",
    "    inpt = f.read()\n",
    "    f.close()\n",
    "print('Part 1 result:', start_of_packet(inpt))"
   ]
  },
  {
   "cell_type": "markdown",
   "metadata": {},
   "source": [
    "# Part 2"
   ]
  },
  {
   "cell_type": "code",
   "execution_count": 5,
   "metadata": {},
   "outputs": [],
   "source": [
    "def start_of_message(data):\n",
    "    for i in range(14, len(data)):\n",
    "        if len(set(data[i-13:i+1])) == 14:\n",
    "            return i+1\n",
    "    return -1"
   ]
  },
  {
   "cell_type": "code",
   "execution_count": 6,
   "metadata": {},
   "outputs": [
    {
     "name": "stdout",
     "output_type": "stream",
     "text": [
      "19\n",
      "23\n",
      "23\n",
      "29\n",
      "26\n"
     ]
    }
   ],
   "source": [
    "for test in tests:\n",
    "    print(start_of_message(test))"
   ]
  },
  {
   "cell_type": "code",
   "execution_count": 7,
   "metadata": {},
   "outputs": [
    {
     "name": "stdout",
     "output_type": "stream",
     "text": [
      "Part 2 result: 3452\n"
     ]
    }
   ],
   "source": [
    "print('Part 2 result:', start_of_message(inpt))"
   ]
  },
  {
   "cell_type": "code",
   "execution_count": null,
   "metadata": {},
   "outputs": [],
   "source": []
  }
 ],
 "metadata": {
  "kernelspec": {
   "display_name": "Python 3",
   "language": "python",
   "name": "python3"
  },
  "language_info": {
   "codemirror_mode": {
    "name": "ipython",
    "version": 3
   },
   "file_extension": ".py",
   "mimetype": "text/x-python",
   "name": "python",
   "nbconvert_exporter": "python",
   "pygments_lexer": "ipython3",
   "version": "3.7.4"
  }
 },
 "nbformat": 4,
 "nbformat_minor": 2
}
