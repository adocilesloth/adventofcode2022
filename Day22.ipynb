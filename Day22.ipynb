{
 "cells": [
  {
   "cell_type": "markdown",
   "metadata": {},
   "source": [
    "# Part 1"
   ]
  },
  {
   "cell_type": "code",
   "execution_count": 1,
   "metadata": {},
   "outputs": [],
   "source": [
    "test = ['        ...#',\n",
    "        '        .#..',\n",
    "        '        #...',\n",
    "        '        ....',\n",
    "        '...#.......#',\n",
    "        '........#...',\n",
    "        '..#....#....',\n",
    "        '..........#.',\n",
    "        '        ...#....',\n",
    "        '        .....#..',\n",
    "        '        .#......',\n",
    "        '        ......#.',\n",
    "        '',\n",
    "        '10R5L5R10L4R5L5']"
   ]
  },
  {
   "cell_type": "code",
   "execution_count": 2,
   "metadata": {},
   "outputs": [
    {
     "name": "stdout",
     "output_type": "stream",
     "text": [
      "Part 1 result: 6032\n"
     ]
    }
   ],
   "source": [
    "def build_graph(data):\n",
    "    graph = {}\n",
    "    x = 1\n",
    "    for line in data:\n",
    "        line = line.rstrip('\\n')\n",
    "        if line == '':\n",
    "            break\n",
    "        i = 0\n",
    "        while line[i] == ' ':\n",
    "            i += 1\n",
    "        for y in range(i, len(line)):\n",
    "            graph[(x,y+1)] = line[y]\n",
    "        x += 1\n",
    "        \n",
    "    cmd = []\n",
    "    last = 0\n",
    "    data[-1] = data[-1].rstrip('\\n')\n",
    "    for i in range(1, len(data[-1])):\n",
    "        if data[-1][i-1].isnumeric() != data[-1][i].isnumeric():\n",
    "            if data[-1][i-1].isnumeric():\n",
    "                cmd.append(int(data[-1][last:i]))\n",
    "                last = i\n",
    "            else:\n",
    "                cmd.append(data[-1][i-1])\n",
    "                last = i\n",
    "    cmd.append(int(data[-1][last:]))\n",
    "    \n",
    "    max_xy = [0,0]\n",
    "    for key in graph.keys():\n",
    "        if key[0] > max_xy[0]:\n",
    "            max_xy[0] = key[0]\n",
    "        if key[1] > max_xy[1]:\n",
    "            max_xy[1] = key[1]\n",
    "    \n",
    "    return graph, cmd, max_xy\n",
    "\n",
    "def build_cube(graph, max_xy):\n",
    "    cube = {}\n",
    "    edge_len = max([int(max_xy[0]/4), int(max_xy[1]/4)])\n",
    "    \n",
    "    if edge_len == 4:\n",
    "        for i in range(1, edge_len+1):\n",
    "            #face 1 right <-> face 6 right\n",
    "            cube[((i,edge_len*3),(0,1))] = ((max_xy[1]-(i-1),edge_len*4),(0,-1))\n",
    "            cube[((max_xy[1]-(i-1),edge_len*4),(0,1))] = ((i,edge_len*3),(0,-1))\n",
    "\n",
    "            #face 1 top <-> face 2 top\n",
    "            cube[((1,(edge_len*2)+i),(-1,0))] = ((edge_len+1,edge_len-(i-1)),(1,0))\n",
    "            cube[((edge_len+1,edge_len-(i-1)),(-1,0))] = ((1,(edge_len*2)+i),(1,0))\n",
    "\n",
    "            #face 1 left <-> face 3 top\n",
    "            cube[((i,(edge_len*2)+1),(0,-1))] = ((edge_len+1,edge_len+i),(1,0))\n",
    "            cube[((edge_len+1,edge_len+i),(-1,0))] = ((i,(edge_len*2)+1),(0,1))\n",
    "\n",
    "            #face 2 left <-> face 6 bottom\n",
    "            cube[((edge_len+i,1),(0,-1))] = ((edge_len*3,(edge_len*4)-(i-1)),(-1,0))\n",
    "            cube[((edge_len*3,(edge_len*4)-(i-1)),(1,0))] = ((edge_len+i,1),(0,1))\n",
    "\n",
    "            #face 2 bottom <-> face 5 bottom\n",
    "            cube[((edge_len*2,i),(1,0))] = ((max_xy[0],(edge_len*3)-(i-1)),(1,0))\n",
    "            cube[((max_xy[0],(edge_len*3)-(i-1)),(1,0))] = ((edge_len*2,i),(-1,0))\n",
    "\n",
    "            #face 3 bottom <-> face 5 left\n",
    "            cube[((edge_len*2,edge_len+i),(-1,0))] = ((max_xy[0]-(i-1),edge_len+1),(0,1))\n",
    "            cube[((max_xy[0]-(i-1),edge_len+1),(0,-1))] = ((edge_len*2,edge_len+i),(1,0))\n",
    "\n",
    "            #face 4 right <-> face 6 top\n",
    "            cube[((edge_len+i,edge_len*3),(0,1))] = (((edge_len*2)+1,(edge_len*4)-(i-1)),(1,0))\n",
    "            cube[(((edge_len*2)+1,(edge_len*4)-(i-1)),(-1,0))] = ((edge_len+i,edge_len*3),(0,-1))\n",
    "    else:\n",
    "        #   [A][B]\n",
    "        #   [C]\n",
    "        #[E][D]\n",
    "        #[F]\n",
    "        for i in range(1, edge_len+1):\n",
    "            #face A top <-> face F left\n",
    "            cube[((1,(edge_len)+i),(-1,0))] = (((edge_len*3)+i,1),(0,1))\n",
    "            cube[(((edge_len*3)+i,1),(0,-1))] = ((1,(edge_len)+i),(1,0))\n",
    "\n",
    "            #face B top <-> face F bottom\n",
    "            cube[((1,(edge_len*2)+i),(-1,0))] = ((edge_len*4,i),(-1,0))\n",
    "            cube[((edge_len*4,i),(1,0))] = ((1,(edge_len*2)+i),(1,0))\n",
    "\n",
    "            #face A left <-> face E left\n",
    "            cube[((i,edge_len+1),(0,-1))] = (((edge_len*3)-(i-1),1),(0,1))\n",
    "            cube[(((edge_len*3)-(i-1),1),(0,-1))] = ((i,edge_len+1),(0,1))\n",
    "\n",
    "            #face B right <-> face D right\n",
    "            cube[((i,edge_len*3),(0,1))] = (((edge_len*3)-(i-1),edge_len*2),(0,-1))\n",
    "            cube[(((edge_len*3)-(i-1),edge_len*2),(0,1))] = ((i,edge_len*3),(0,-1))\n",
    "\n",
    "            #face B bottom <-> face C right\n",
    "            cube[((edge_len,(edge_len*2)+i),(1,0))] = ((edge_len+i,edge_len*2),(0,-1))\n",
    "            cube[((edge_len+i,edge_len*2),(0,1))] = ((edge_len,(edge_len*2)+i),(-1,0))\n",
    "\n",
    "            #face C left <-> face E top\n",
    "            cube[((edge_len+i,edge_len+1),(0,-1))] = (((edge_len*2)+1,i),(1,0))\n",
    "            cube[(((edge_len*2)+1,i),(-1,0))] = ((edge_len+i,edge_len+1),(0,1))\n",
    "\n",
    "            #face D bottom <-> face F left\n",
    "            cube[((edge_len*3,edge_len+i),(1,0))] = (((edge_len*3)+i,edge_len),(0,-1))\n",
    "            cube[(((edge_len*3)+i,edge_len),(0,1))] = ((edge_len*3,edge_len+i),(-1,0))\n",
    "        \n",
    "        \n",
    "    return cube\n",
    "\n",
    "def change_dirct(dw, dirct):\n",
    "    dz = [(0,1),(1,0),(0,-1),(-1,0)]\n",
    "    for i in range(0, len(dz)):\n",
    "        if dw == dz[i]:\n",
    "            break\n",
    "    if dirct == 'R':\n",
    "        i += 1\n",
    "    elif dirct == 'L':\n",
    "        i -= 1\n",
    "    if i == -1:\n",
    "        i = len(dz)-1\n",
    "    elif i == len(dz):\n",
    "        i = 0\n",
    "    return dz[i]\n",
    "\n",
    "def swap_edge(graph, pos, dw, max_xy):\n",
    "    if dw[0] == -1:\n",
    "        nxt_pos = [max_xy[0],pos[1]]\n",
    "    elif dw[0] == 1:\n",
    "        nxt_pos = [1,pos[1]]\n",
    "    elif dw[1] == -1:\n",
    "        nxt_pos = [pos[0],max_xy[1]]\n",
    "    elif dw[1] == 1:\n",
    "        nxt_pos = [pos[0],1]\n",
    "        \n",
    "    if tuple(nxt_pos) in graph.keys():\n",
    "        return tuple(nxt_pos)\n",
    "    while tuple(nxt_pos) not in graph.keys():\n",
    "        nxt_pos[0] += dw[0]\n",
    "        nxt_pos[1] += dw[1]\n",
    "    return tuple(nxt_pos)\n",
    "\n",
    "def get_dirct(dw):\n",
    "    dz = [(0,1),(1,0),(0,-1),(-1,0)]\n",
    "    for i in range(0, len(dz)):\n",
    "        if dw == dz[i]:\n",
    "            return i\n",
    "    \n",
    "def traverse_graph(graph, cmd, max_xy, part=1):\n",
    "    dw = (0,1)\n",
    "    y = 1\n",
    "    while True:\n",
    "        if (1, y) not in graph.keys():\n",
    "            y += 1\n",
    "            continue\n",
    "        elif graph[(1, y)] == '.':\n",
    "            pos = (1,y)\n",
    "            break\n",
    "        y += 1\n",
    "        \n",
    "    if part == 2:\n",
    "        cube = build_cube(graph, max_xy)\n",
    "    \n",
    "    for c in cmd:\n",
    "        if type(c) == int:\n",
    "            for _ in range(0, c):\n",
    "                nxt_pos = (pos[0]+dw[0],pos[1]+dw[1])\n",
    "                nxt_dw = dw\n",
    "                if nxt_pos not in graph.keys():\n",
    "                    if part == 1:\n",
    "                        nxt_pos = swap_edge(graph, pos, dw, max_xy)\n",
    "                    elif part == 2:\n",
    "                        nxt_pos, nxt_dw = cube[(pos,dw)]\n",
    "                if graph[nxt_pos] == '#':\n",
    "                    break\n",
    "                pos = nxt_pos\n",
    "                dw = nxt_dw\n",
    "        else:\n",
    "            dw = change_dirct(dw, c)\n",
    "    return pos, get_dirct(dw)\n",
    "\n",
    "def run(data, part=1):\n",
    "    graph, cmd, max_xy = build_graph(data)\n",
    "    pos, dirct = traverse_graph(graph, cmd, max_xy, part)\n",
    "    print('Part', part, 'result:', (1000*pos[0])+(4*pos[1])+dirct)\n",
    "    \n",
    "run(test)"
   ]
  },
  {
   "cell_type": "code",
   "execution_count": 3,
   "metadata": {},
   "outputs": [
    {
     "name": "stdout",
     "output_type": "stream",
     "text": [
      "Part 1 result: 43466\n"
     ]
    }
   ],
   "source": [
    "with open('day22_input.txt', 'r') as f:\n",
    "    inpt = f.readlines()\n",
    "    f.close()\n",
    "run(inpt)"
   ]
  },
  {
   "cell_type": "markdown",
   "metadata": {},
   "source": [
    "# Part 2"
   ]
  },
  {
   "cell_type": "code",
   "execution_count": 4,
   "metadata": {},
   "outputs": [
    {
     "name": "stdout",
     "output_type": "stream",
     "text": [
      "Part 2 result: 5031\n"
     ]
    }
   ],
   "source": [
    "run(test, 2)"
   ]
  },
  {
   "cell_type": "code",
   "execution_count": 5,
   "metadata": {},
   "outputs": [
    {
     "name": "stdout",
     "output_type": "stream",
     "text": [
      "Part 2 result: 162155\n"
     ]
    }
   ],
   "source": [
    "run(inpt, 2)"
   ]
  },
  {
   "cell_type": "code",
   "execution_count": null,
   "metadata": {},
   "outputs": [],
   "source": []
  }
 ],
 "metadata": {
  "kernelspec": {
   "display_name": "Python 3",
   "language": "python",
   "name": "python3"
  },
  "language_info": {
   "codemirror_mode": {
    "name": "ipython",
    "version": 3
   },
   "file_extension": ".py",
   "mimetype": "text/x-python",
   "name": "python",
   "nbconvert_exporter": "python",
   "pygments_lexer": "ipython3",
   "version": "3.7.4"
  }
 },
 "nbformat": 4,
 "nbformat_minor": 2
}
