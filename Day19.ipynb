{
 "cells": [
  {
   "cell_type": "code",
   "execution_count": null,
   "metadata": {},
   "outputs": [],
   "source": [
    "import numpy as np\n",
    "from copy import deepcopy"
   ]
  },
  {
   "cell_type": "markdown",
   "metadata": {},
   "source": [
    "# Part 1"
   ]
  },
  {
   "cell_type": "code",
   "execution_count": null,
   "metadata": {},
   "outputs": [],
   "source": [
    "test = ['Blueprint 1: Each ore robot costs 4 ore. Each clay robot costs 2 ore. Each obsidian robot costs 3 ore and 14 clay. Each geode robot costs 2 ore and 7 obsidian.',\n",
    "        'Blueprint 2: Each ore robot costs 2 ore. Each clay robot costs 3 ore. Each obsidian robot costs 3 ore and 8 clay. Each geode robot costs 3 ore and 12 obsidian.'] "
   ]
  },
  {
   "cell_type": "code",
   "execution_count": null,
   "metadata": {
    "scrolled": true
   },
   "outputs": [],
   "source": [
    "def get_blueprints(data, part=1):\n",
    "    blueprint = {}\n",
    "    \n",
    "    if part == 2 and len(data)>3:\n",
    "        data = data[:3]\n",
    "    \n",
    "    for line in data:\n",
    "        line = line.strip().split('.')\n",
    "        \n",
    "        bp, line[0] = line[0].split(':')\n",
    "        bp = bp.split()\n",
    "        bp = int(bp[1])\n",
    "        \n",
    "        ore_bp = line[0].split()\n",
    "        ore = [int(ore_bp[4]), 0, 0]\n",
    "        \n",
    "        clay_bp = line[1].split()\n",
    "        clay = [int(clay_bp[4]), 0, 0]\n",
    "        \n",
    "        obsi_bp = line[2].split()\n",
    "        obsi = [int(obsi_bp[4]), int(obsi_bp[7]), 0]\n",
    "        \n",
    "        geod_bp = line[3].split()\n",
    "        geod = [int(geod_bp[4]), 0, int(geod_bp[7])]\n",
    "        \n",
    "        blueprint[bp] = [ore, clay, obsi, geod]\n",
    "        \n",
    "    return blueprint\n",
    "\n",
    "def get_dt(blueprint, bots, mats):\n",
    "    dt = 0\n",
    "    for i in range(0, 3):\n",
    "        if bots[i] == 0:\n",
    "            continue\n",
    "        if mats[i] == blueprint[i]:\n",
    "            m_dt = 0\n",
    "        else:\n",
    "            m_dt = int(np.ceil((blueprint[i]-mats[i])/bots[i]))\n",
    "        if m_dt > dt:\n",
    "            dt = m_dt\n",
    "            \n",
    "    return dt\n",
    "\n",
    "def future(score, bots, mats, t, max_time):\n",
    "    dt = max_time-t\n",
    "    extra = bots[3]*dt\n",
    "    extra += int((dt*(dt+1))/2)\n",
    "    \n",
    "    if mats[3]+extra < max(score):\n",
    "        return False\n",
    "    return True\n",
    "\n",
    "def DFS(score, blueprint, bots, mats, t, max_bots, max_time, next_bot):\n",
    "    #wait for mats\n",
    "    dt = get_dt(blueprint[next_bot], bots, mats)\n",
    "    \n",
    "    if t+dt > max_time:\n",
    "        dt = max_time-t\n",
    "        mats[3] += bots[3]*dt\n",
    "        score.append(mats[3])\n",
    "        return\n",
    "    \n",
    "    for i in range(0, 4):\n",
    "        mats[i] += bots[i]*dt\n",
    "    t += dt\n",
    "        \n",
    "    #start build\n",
    "    t += 1\n",
    "    for i in range(0, 3):\n",
    "        mats[i] -= blueprint[next_bot][i]\n",
    "    #dig\n",
    "    for i in range(0, 4):\n",
    "        mats[i] += bots[i]\n",
    "    #end build\n",
    "    bots[next_bot] += 1\n",
    "    \n",
    "    if t == max_time:\n",
    "        score.append(mats[3])\n",
    "        return\n",
    "    \n",
    "    if len(score)>0 and future(score, bots, mats, t, max_time) == False:\n",
    "        dt = max_time-t\n",
    "        mats[3] += bots[3]*dt\n",
    "        score.append(mats[3])\n",
    "        return\n",
    "    \n",
    "    #choose bot\n",
    "    poss_bots = []\n",
    "    if bots[0] < max_bots[0]:\n",
    "        poss_bots.append(0)\n",
    "    if bots[1] < max_bots[1]:\n",
    "        poss_bots.append(1)\n",
    "    if bots[1] > 0 and bots[2] < max_bots[2]:\n",
    "        poss_bots.append(2)\n",
    "    if bots[2] > 0 and bots[3] < max_bots[3]:\n",
    "        poss_bots.append(3)\n",
    "        \n",
    "    if len(poss_bots) == 0:\n",
    "        dt = max_time-t\n",
    "        mats[3] += bots[3]*dt\n",
    "        score.append(mats[3])\n",
    "        return\n",
    "    \n",
    "    for pb in poss_bots:\n",
    "        DFS(score, blueprint, deepcopy(bots), deepcopy(mats), deepcopy(t), max_bots, max_time, pb)\n",
    "    \n",
    "def get_geode(data, max_time, part=1, fitst_score=0):\n",
    "    blueprints = get_blueprints(data, part)\n",
    "    \n",
    "    best = []\n",
    "    scores = []\n",
    "    for key in blueprints.keys():\n",
    "        #print(key)\n",
    "        blueprint = blueprints[key]\n",
    "        bots = [1,0,0,0]\n",
    "        mats = [0,0,0,0]\n",
    "        t = 0\n",
    "        max_bots = [max([blueprint[0][0],blueprint[1][0],blueprint[2][0],blueprint[3][0]]),\n",
    "                    max([blueprint[0][1],blueprint[1][1],blueprint[2][1],blueprint[3][1]]),\n",
    "                    max([blueprint[0][2],blueprint[1][2],blueprint[2][2],blueprint[3][2]]),\n",
    "                    max_time]\n",
    "        \n",
    "        score = [fitst_score]\n",
    "        for i in range(0, 2):\n",
    "            #print(key, i)\n",
    "            DFS(score, blueprint, deepcopy(bots), deepcopy(mats), deepcopy(t), max_bots, max_time, i)\n",
    "        print(key, max(score))\n",
    "        scores.append(max(score)*key)\n",
    "        best.append(max(score))\n",
    "        #break\n",
    "    if part == 1:\n",
    "        print('Part 1 result:', sum(scores))\n",
    "    elif part == 2:\n",
    "        print('Part 2 result:', np.prod(best))\n",
    "    \n",
    "get_geode(test, 24)"
   ]
  },
  {
   "cell_type": "code",
   "execution_count": null,
   "metadata": {},
   "outputs": [],
   "source": [
    "with open('day19_input.txt', 'r') as f:\n",
    "    inpt = f.readlines()\n",
    "    f.close()\n",
    "get_geode(inpt, 24)"
   ]
  },
  {
   "cell_type": "markdown",
   "metadata": {},
   "source": [
    "# Part 2"
   ]
  },
  {
   "cell_type": "code",
   "execution_count": null,
   "metadata": {},
   "outputs": [],
   "source": [
    "get_geode(test, 32, 33)"
   ]
  },
  {
   "cell_type": "code",
   "execution_count": null,
   "metadata": {},
   "outputs": [],
   "source": [
    "get_geode(inpt, 32, 1528)"
   ]
  }
 ],
 "metadata": {
  "kernelspec": {
   "display_name": "Python 3",
   "language": "python",
   "name": "python3"
  },
  "language_info": {
   "codemirror_mode": {
    "name": "ipython",
    "version": 3
   },
   "file_extension": ".py",
   "mimetype": "text/x-python",
   "name": "python",
   "nbconvert_exporter": "python",
   "pygments_lexer": "ipython3",
   "version": "3.7.4"
  }
 },
 "nbformat": 4,
 "nbformat_minor": 4
}
