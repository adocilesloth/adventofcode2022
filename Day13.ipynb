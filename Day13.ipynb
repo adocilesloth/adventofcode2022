{
 "cells": [
  {
   "cell_type": "code",
   "execution_count": 1,
   "id": "heard-premium",
   "metadata": {},
   "outputs": [],
   "source": [
    "import numpy as np\n",
    "import ast\n",
    "from copy import deepcopy"
   ]
  },
  {
   "cell_type": "markdown",
   "id": "conditional-english",
   "metadata": {},
   "source": [
    "# Part 1"
   ]
  },
  {
   "cell_type": "code",
   "execution_count": 2,
   "id": "annoying-values",
   "metadata": {},
   "outputs": [],
   "source": [
    "test = ['[1,1,3,1,1]',\n",
    "        '[1,1,5,1,1]',\n",
    "        '',\n",
    "        '[[1],[2,3,4]]',\n",
    "        '[[1],4]',\n",
    "        '',\n",
    "        '[9]',\n",
    "        '[[8,7,6]]',\n",
    "        '',\n",
    "        '[[4,4],4,4]',\n",
    "        '[[4,4],4,4,4]',\n",
    "        '',\n",
    "        '[7,7,7,7]',\n",
    "        '[7,7,7]',\n",
    "        '',\n",
    "        '[]',\n",
    "        '[3]',\n",
    "        '',\n",
    "        '[[[]]]',\n",
    "        '[[]]',\n",
    "        '',\n",
    "        '[1,[2,[3,[4,[5,6,7]]]],8,9]',\n",
    "        '[1,[2,[3,[4,[5,6,0]]]],8,9]']"
   ]
  },
  {
   "cell_type": "code",
   "execution_count": 3,
   "id": "threatened-mediterranean",
   "metadata": {},
   "outputs": [],
   "source": [
    "# a > b - order == 0\n",
    "# a == b - order == 1\n",
    "# a < b - order == 2\n",
    "\n",
    "def compare_data(data):\n",
    "    in_order = []\n",
    "    \n",
    "    for i in range(0, len(data), 3):\n",
    "        order = compare_packets(data[i].strip(), data[i+1].strip())\n",
    "                \n",
    "        if order == 2:\n",
    "            in_order.append((i//3)+1)\n",
    "                \n",
    "    return in_order\n",
    "\n",
    "def compare_packets(packet1, packet2):\n",
    "    packet1 = ast.literal_eval(packet1)\n",
    "    packet2 = ast.literal_eval(packet2)\n",
    "\n",
    "    if len(packet1) == 0 and len(packet2)>0:\n",
    "        return 2\n",
    "\n",
    "    order = compare_values(packet1, packet2, 1)\n",
    "    \n",
    "    return order\n",
    "                \n",
    "def compare_values(packet1, packet2, order):\n",
    "    if order == 0:\n",
    "        return order\n",
    "    elif order == 2:\n",
    "        return order\n",
    "    \n",
    "    #if integers, the lowest integer should come first\n",
    "    if type(packet1) == int and type(packet2) == int:\n",
    "        if packet1 > packet2:\n",
    "            return 0\n",
    "        elif packet1 == packet2:\n",
    "            return 1\n",
    "        else:\n",
    "            return 2\n",
    "        \n",
    "    #if lists, go through lists, packet 1 should be shorter than packet 2\n",
    "    elif type(packet1) == list and type(packet2) == list:\n",
    "        if len(packet1) == 0 and len(packet2)>0:\n",
    "            return 2\n",
    "        \n",
    "        \n",
    "        loop_length = np.min([len(packet1), len(packet2)])\n",
    "        for j in range(0, loop_length):\n",
    "            try:\n",
    "                order = compare_values(packet1[j], packet2[j], order)\n",
    "            except:\n",
    "                return 2\n",
    "            if order == 0:\n",
    "                return order\n",
    "            elif order == 2:\n",
    "                return order\n",
    "        \n",
    "        if len(packet1) > loop_length:\n",
    "            return 0\n",
    "        elif len(packet2) > loop_length:\n",
    "            return 2\n",
    "        else:\n",
    "            return 1\n",
    "        \n",
    "    #if one int, one list, convert int to list and compare\n",
    "    elif type(packet1) == list and type(packet2) == int:\n",
    "        packet2 = [packet2]\n",
    "        order = compare_values(packet1, packet2, order)      \n",
    "    elif type(packet1) == int and type(packet2) == list:\n",
    "        packet1 = [packet1]\n",
    "        order = compare_values(packet1, packet2, order)\n",
    "    \n",
    "    return order"
   ]
  },
  {
   "cell_type": "code",
   "execution_count": 4,
   "id": "representative-explanation",
   "metadata": {},
   "outputs": [
    {
     "data": {
      "text/plain": [
       "13"
      ]
     },
     "execution_count": 4,
     "metadata": {},
     "output_type": "execute_result"
    }
   ],
   "source": [
    "np.sum(compare_data(test))"
   ]
  },
  {
   "cell_type": "code",
   "execution_count": 5,
   "id": "mexican-lingerie",
   "metadata": {},
   "outputs": [
    {
     "name": "stdout",
     "output_type": "stream",
     "text": [
      "Part 1 result: 5760\n"
     ]
    }
   ],
   "source": [
    "with open('day13_input.txt', 'r') as f:\n",
    "    inpt = f.readlines()\n",
    "    f.close()\n",
    "print('Part 1 result:', np.sum(compare_data(inpt)))"
   ]
  },
  {
   "cell_type": "markdown",
   "id": "innovative-stocks",
   "metadata": {},
   "source": [
    "# Part 2"
   ]
  },
  {
   "cell_type": "code",
   "execution_count": 6,
   "id": "based-anime",
   "metadata": {},
   "outputs": [],
   "source": [
    "def clean_data(data):\n",
    "    for i in range(len(data)-1, -1, -1):\n",
    "        if data[i].strip() == '':\n",
    "            del data[i]\n",
    "    return data\n",
    "\n",
    "def swap_elements(lst, idx1, idx2):\n",
    "    lst[idx1], lst[idx2] = lst[idx2], lst[idx1]\n",
    "    return lst\n",
    "\n",
    "def bubble_sort(data):\n",
    "    count = len(data)\n",
    "    while count:\n",
    "        count = 0\n",
    "        for i in range(0, len(data)-1):\n",
    "            order = compare_packets(data[i].strip(), data[i+1].strip())\n",
    "            if order == 0:\n",
    "                data = swap_elements(data, i, i+1)\n",
    "                count += 1\n",
    "                \n",
    "    return data\n",
    "\n",
    "def run_part2(data):\n",
    "    data = clean_data(data)\n",
    "    data.append('[[2]]')\n",
    "    data.append('[[6]]')\n",
    "        \n",
    "    data = bubble_sort(data)\n",
    "    \n",
    "    idx2 = -1\n",
    "    idx6 = -1\n",
    "    for i in range(0, len(data)):\n",
    "        if data[i] == '[[2]]':\n",
    "            idx2 = i+1\n",
    "        if data[i] == '[[6]]':\n",
    "            idx6 = i+1\n",
    "            break\n",
    "            \n",
    "    print('Part 2 result:', idx2*idx6)"
   ]
  },
  {
   "cell_type": "code",
   "execution_count": 7,
   "id": "straight-mitchell",
   "metadata": {},
   "outputs": [
    {
     "name": "stdout",
     "output_type": "stream",
     "text": [
      "Part 2 result: 140\n"
     ]
    }
   ],
   "source": [
    "run_part2(deepcopy(test))"
   ]
  },
  {
   "cell_type": "code",
   "execution_count": 8,
   "id": "preceding-singapore",
   "metadata": {},
   "outputs": [
    {
     "name": "stdout",
     "output_type": "stream",
     "text": [
      "Part 2 result: 26670\n"
     ]
    }
   ],
   "source": [
    "run_part2(deepcopy(inpt))"
   ]
  },
  {
   "cell_type": "code",
   "execution_count": null,
   "id": "embedded-termination",
   "metadata": {},
   "outputs": [],
   "source": []
  }
 ],
 "metadata": {
  "kernelspec": {
   "display_name": "Python 3",
   "language": "python",
   "name": "python3"
  },
  "language_info": {
   "codemirror_mode": {
    "name": "ipython",
    "version": 3
   },
   "file_extension": ".py",
   "mimetype": "text/x-python",
   "name": "python",
   "nbconvert_exporter": "python",
   "pygments_lexer": "ipython3",
   "version": "3.8.10"
  }
 },
 "nbformat": 4,
 "nbformat_minor": 5
}
