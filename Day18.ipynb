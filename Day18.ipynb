{
 "cells": [
  {
   "cell_type": "code",
   "execution_count": 1,
   "metadata": {},
   "outputs": [],
   "source": [
    "from collections import deque"
   ]
  },
  {
   "cell_type": "markdown",
   "metadata": {},
   "source": [
    "# Part 1"
   ]
  },
  {
   "cell_type": "code",
   "execution_count": 2,
   "metadata": {},
   "outputs": [],
   "source": [
    "test = ['2,2,2',\n",
    "        '1,2,2',\n",
    "        '3,2,2',\n",
    "        '2,1,2',\n",
    "        '2,3,2',\n",
    "        '2,2,1',\n",
    "        '2,2,3',\n",
    "        '2,2,4',\n",
    "        '2,2,6',\n",
    "        '1,2,5',\n",
    "        '3,2,5',\n",
    "        '2,1,5',\n",
    "        '2,3,5']"
   ]
  },
  {
   "cell_type": "code",
   "execution_count": 3,
   "metadata": {},
   "outputs": [],
   "source": [
    "def get_drops(data):\n",
    "    max_xyz = [0,0,0]\n",
    "    min_xyz = [100,100,100]\n",
    "    drops = {}\n",
    "    for line in data:\n",
    "        line = line.strip().split(',')\n",
    "        drops[(int(line[0]),int(line[1]),int(line[2]))] = 6\n",
    "        \n",
    "        for i in range(0, 3):\n",
    "            if int(line[i]) < min_xyz[i]:\n",
    "                min_xyz[i] = int(line[i])\n",
    "            if int(line[i]) > max_xyz[i]:\n",
    "                max_xyz[i] = int(line[i])\n",
    "    return drops, min_xyz, max_xyz\n",
    "\n",
    "def count_sides(drops):\n",
    "    dw = [-1,+1]\n",
    "    for key in drops.keys():\n",
    "        for i in range(0, 2):\n",
    "            if (key[0]+dw[i],key[1],key[2]) in drops.keys():\n",
    "                drops[key] -= 1\n",
    "            if (key[0],key[1]+dw[i],key[2]) in drops.keys():\n",
    "                drops[key] -= 1\n",
    "            if (key[0],key[1],key[2]+dw[i]) in drops.keys():\n",
    "                drops[key] -= 1\n",
    "    sides = sum(drops.values())\n",
    "    return sides, drops\n",
    "\n",
    "def run_part1(data):\n",
    "    drops, _, _ = get_drops(data)\n",
    "    sides, _ = count_sides(drops)\n",
    "    print('Part 1 result:', sides)"
   ]
  },
  {
   "cell_type": "code",
   "execution_count": 4,
   "metadata": {},
   "outputs": [
    {
     "name": "stdout",
     "output_type": "stream",
     "text": [
      "Part 1 result: 64\n"
     ]
    }
   ],
   "source": [
    "run_part1(test)"
   ]
  },
  {
   "cell_type": "code",
   "execution_count": 5,
   "metadata": {},
   "outputs": [
    {
     "name": "stdout",
     "output_type": "stream",
     "text": [
      "Part 1 result: 3374\n"
     ]
    }
   ],
   "source": [
    "with open('day18_input.txt', 'r') as f:\n",
    "    inpt = f.readlines()\n",
    "    f.close()\n",
    "run_part1(inpt)"
   ]
  },
  {
   "cell_type": "markdown",
   "metadata": {},
   "source": [
    "# Part 2"
   ]
  },
  {
   "cell_type": "code",
   "execution_count": 8,
   "metadata": {},
   "outputs": [],
   "source": [
    "#Check if position is traversable\n",
    "def good_pos(graph, pos, min_xyz, max_xyz):   \n",
    "    if pos in graph.keys():\n",
    "        return False\n",
    "    \n",
    "    for i in range(0, 3):\n",
    "        if pos[i] < min_xyz[i] or pos[i] > max_xyz[i]:\n",
    "            return False\n",
    "    \n",
    "    return True\n",
    "\n",
    "#Breadth-First Search\n",
    "def BFS(graph, start, min_xyz, max_xyz):\n",
    "    dw = [-1, 1]\n",
    "    queue = deque([start])\n",
    "    air = {start: 6}\n",
    "    \n",
    "    while len(queue):\n",
    "        cur_pos = queue.popleft()\n",
    "        for i in range(0, 2):\n",
    "            #move in x\n",
    "            nxt_pos = (cur_pos[0]+dw[i], cur_pos[1], cur_pos[2])\n",
    "            if good_pos(graph, nxt_pos, min_xyz, max_xyz) and nxt_pos not in air.keys():\n",
    "                queue.append(nxt_pos)\n",
    "                air[nxt_pos] = 6\n",
    "            #move in y\n",
    "            nxt_pos = (cur_pos[0], cur_pos[1]+dw[i], cur_pos[2])\n",
    "            if good_pos(graph, nxt_pos, min_xyz, max_xyz) and nxt_pos not in air.keys():\n",
    "                queue.append(nxt_pos)\n",
    "                air[nxt_pos] = 6\n",
    "            #move in z\n",
    "            nxt_pos = (cur_pos[0], cur_pos[1], cur_pos[2]+dw[i])\n",
    "            if good_pos(graph, nxt_pos, min_xyz, max_xyz) and nxt_pos not in air.keys():\n",
    "                queue.append(nxt_pos)\n",
    "                air[nxt_pos] = 6\n",
    "                \n",
    "    return air\n",
    "\n",
    "def count_sides_air(drops, air):\n",
    "    dw = [-1,+1]\n",
    "    for key in drops.keys():\n",
    "        drops[key] = 0\n",
    "        for i in range(0, 2):\n",
    "            if (key[0]+dw[i],key[1],key[2]) in air.keys():\n",
    "                drops[key] += 1\n",
    "            if (key[0],key[1]+dw[i],key[2]) in air.keys():\n",
    "                drops[key] += 1\n",
    "            if (key[0],key[1],key[2]+dw[i]) in air.keys():\n",
    "                drops[key] += 1\n",
    "    sides = sum(drops.values())\n",
    "    return sides\n",
    "\n",
    "def run_part2(data):\n",
    "    drops, min_xyz, max_xyz = get_drops(data)\n",
    "    _, drops = count_sides(drops)\n",
    "    \n",
    "    for i in range(0, 3):\n",
    "        min_xyz[i] -= 1\n",
    "        max_xyz[i] += 1\n",
    "        \n",
    "    air = BFS(drops, tuple(min_xyz), tuple(min_xyz), tuple(max_xyz))\n",
    "    sides = count_sides_air(drops, air)\n",
    "    \n",
    "    print('Part 2 result:', sides)"
   ]
  },
  {
   "cell_type": "code",
   "execution_count": 9,
   "metadata": {},
   "outputs": [
    {
     "name": "stdout",
     "output_type": "stream",
     "text": [
      "Part 2 result: 58\n"
     ]
    }
   ],
   "source": [
    "run_part2(test)"
   ]
  },
  {
   "cell_type": "code",
   "execution_count": 10,
   "metadata": {},
   "outputs": [
    {
     "name": "stdout",
     "output_type": "stream",
     "text": [
      "Part 2 result: 2010\n"
     ]
    }
   ],
   "source": [
    "run_part2(inpt)"
   ]
  },
  {
   "cell_type": "code",
   "execution_count": null,
   "metadata": {},
   "outputs": [],
   "source": []
  }
 ],
 "metadata": {
  "kernelspec": {
   "display_name": "Python 3",
   "language": "python",
   "name": "python3"
  },
  "language_info": {
   "codemirror_mode": {
    "name": "ipython",
    "version": 3
   },
   "file_extension": ".py",
   "mimetype": "text/x-python",
   "name": "python",
   "nbconvert_exporter": "python",
   "pygments_lexer": "ipython3",
   "version": "3.8.5"
  }
 },
 "nbformat": 4,
 "nbformat_minor": 4
}
