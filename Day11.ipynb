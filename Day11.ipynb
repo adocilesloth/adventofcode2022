{
 "cells": [
  {
   "cell_type": "code",
   "execution_count": 1,
   "metadata": {},
   "outputs": [],
   "source": [
    "import numpy as np"
   ]
  },
  {
   "cell_type": "markdown",
   "metadata": {},
   "source": [
    "# Part 1"
   ]
  },
  {
   "cell_type": "code",
   "execution_count": 2,
   "metadata": {},
   "outputs": [],
   "source": [
    "class monkey():\n",
    "    def __init__(self, items, operation, value, test, targets, worrying=False):\n",
    "        self.items = items\n",
    "        self.op = operation\n",
    "        self.value = value\n",
    "        self.test = test\n",
    "        self.targets = targets\n",
    "        self.inspections = 0\n",
    "        \n",
    "        self.worrying = worrying\n",
    "        \n",
    "    def troup(self, monkeys):\n",
    "        self.monkeys = monkeys\n",
    "        \n",
    "    def inspect(self):\n",
    "        while len(self.items) > 0:\n",
    "            item = self.items.pop(0)\n",
    "            if self.op == '+':\n",
    "                if self.value == 'old':\n",
    "                    item += item\n",
    "                else:\n",
    "                    item += int(self.value)\n",
    "            elif self.op == '-':\n",
    "                if self.value == 'old':\n",
    "                    item -= item\n",
    "                else:\n",
    "                    item -= int(self.value)\n",
    "            elif self.op == '*':\n",
    "                if self.value == 'old':\n",
    "                    item *= item\n",
    "                else:\n",
    "                    item *= int(self.value)\n",
    "            elif self.op == '/':\n",
    "                if self.value == 'old':\n",
    "                    item /= item\n",
    "                else:\n",
    "                    item /= int(self.value)\n",
    "                    \n",
    "            if self.worrying == False:\n",
    "                item = item//3\n",
    "            else:\n",
    "                item = item % self.lcm\n",
    "            self.throw(item)\n",
    "            self.inspections += 1\n",
    "            \n",
    "    def throw(self, item):\n",
    "        if item%self.test:\n",
    "            self.monkeys[self.targets[1]].catch(item)\n",
    "        else:\n",
    "            self.monkeys[self.targets[0]].catch(item)\n",
    "        \n",
    "    def catch(self, item):\n",
    "        self.items.append(item)\n",
    "        \n",
    "    def LCM(self):\n",
    "        values = []\n",
    "        for i in range(0, len(self.monkeys)):\n",
    "            values.append(self.monkeys[i].test)\n",
    "        self.lcm = np.lcm.reduce(values)\n",
    "        \n",
    "def create_troup(data, worrying):\n",
    "    monkeys = []\n",
    "    for i in range(0, len(data), 7):\n",
    "        #i is monkey\n",
    "        \n",
    "        #i+1 is items\n",
    "        line = data[i+1].strip()\n",
    "        line = line.replace(',', '')\n",
    "        line = line.split(' ')\n",
    "        items = []\n",
    "        for j in range(2, len(line)):\n",
    "            items.append(int(line[j]))\n",
    "            \n",
    "        #i+2 is operation\n",
    "        line = data[i+2].strip()\n",
    "        line = line.split(' ')\n",
    "        op = line[-2]\n",
    "        value = line[-1]\n",
    "        \n",
    "        #i+3 is test\n",
    "        line = data[i+3].strip()\n",
    "        line = line.split(' ')\n",
    "        test = int(line[-1])\n",
    "        \n",
    "        #i+4 is true\n",
    "        line = data[i+4].strip()\n",
    "        line = line.split(' ')\n",
    "        tgt_true = int(line[-1])\n",
    "        \n",
    "        #i+5 is true\n",
    "        line = data[i+5].strip()\n",
    "        line = line.split(' ')\n",
    "        tgt_false = int(line[-1])\n",
    "        \n",
    "        targets = [tgt_true, tgt_false]\n",
    "        \n",
    "        monkeys.append(monkey(items, op, value, test, targets, worrying))\n",
    "        \n",
    "    for i in range(0, len(monkeys)):\n",
    "        monkeys[i].troup(monkeys)\n",
    "        monkeys[i].LCM()\n",
    "        \n",
    "    return monkeys\n",
    "\n",
    "def run(data, rounds=20):\n",
    "    if rounds == 20:\n",
    "        n = 1\n",
    "    else:\n",
    "        n = 2\n",
    "        \n",
    "    monkeys = create_troup(data, rounds!=20)\n",
    "\n",
    "    for i in range(0, rounds):\n",
    "        for j in range(0, len(monkeys)):\n",
    "            monkeys[j].inspect()                       \n",
    "           \n",
    "    scores = []\n",
    "    for i in range(0, len(monkeys)):\n",
    "        scores.append(monkeys[i].inspections)\n",
    "    \n",
    "    scores.sort()\n",
    "    print('Part', n, 'result:', scores[-2]*scores[-1])"
   ]
  },
  {
   "cell_type": "code",
   "execution_count": 3,
   "metadata": {},
   "outputs": [
    {
     "name": "stdout",
     "output_type": "stream",
     "text": [
      "Part 1 result: 10605\n"
     ]
    }
   ],
   "source": [
    "with open('day11_test.txt', 'r') as f:\n",
    "    test = f.readlines()\n",
    "    f.close()\n",
    "run(test)"
   ]
  },
  {
   "cell_type": "code",
   "execution_count": 4,
   "metadata": {},
   "outputs": [
    {
     "name": "stdout",
     "output_type": "stream",
     "text": [
      "Part 1 result: 88208\n"
     ]
    }
   ],
   "source": [
    "with open('day11_input.txt', 'r') as f:\n",
    "    inpt = f.readlines()\n",
    "    f.close()\n",
    "run(inpt)"
   ]
  },
  {
   "cell_type": "markdown",
   "metadata": {},
   "source": [
    "# Part 2"
   ]
  },
  {
   "cell_type": "code",
   "execution_count": 5,
   "metadata": {},
   "outputs": [
    {
     "name": "stdout",
     "output_type": "stream",
     "text": [
      "Part 2 result: 2713310158\n"
     ]
    }
   ],
   "source": [
    "with open('day11_test.txt', 'r') as f:\n",
    "    test = f.readlines()\n",
    "    f.close()\n",
    "run(test, 10000)"
   ]
  },
  {
   "cell_type": "code",
   "execution_count": 6,
   "metadata": {},
   "outputs": [
    {
     "name": "stdout",
     "output_type": "stream",
     "text": [
      "Part 2 result: 21115867968\n"
     ]
    }
   ],
   "source": [
    "with open('day11_input.txt', 'r') as f:\n",
    "    inpt = f.readlines()\n",
    "    f.close()\n",
    "run(inpt, 10000)"
   ]
  }
 ],
 "metadata": {
  "kernelspec": {
   "display_name": "Python 3",
   "language": "python",
   "name": "python3"
  },
  "language_info": {
   "codemirror_mode": {
    "name": "ipython",
    "version": 3
   },
   "file_extension": ".py",
   "mimetype": "text/x-python",
   "name": "python",
   "nbconvert_exporter": "python",
   "pygments_lexer": "ipython3",
   "version": "3.7.4"
  }
 },
 "nbformat": 4,
 "nbformat_minor": 2
}
