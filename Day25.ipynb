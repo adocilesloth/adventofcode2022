{
 "cells": [
  {
   "cell_type": "markdown",
   "metadata": {},
   "source": [
    "# Part 1"
   ]
  },
  {
   "cell_type": "code",
   "execution_count": 1,
   "metadata": {},
   "outputs": [],
   "source": [
    "test = ['1=-0-2',\n",
    "        '12111',\n",
    "        '2=0=',\n",
    "        '21',\n",
    "        '2=01',\n",
    "        '111',\n",
    "        '20012',\n",
    "        '112',\n",
    "        '1=-1=',\n",
    "        '1-12',\n",
    "        '12',\n",
    "        '1=',\n",
    "        '122']"
   ]
  },
  {
   "cell_type": "code",
   "execution_count": 2,
   "metadata": {},
   "outputs": [
    {
     "name": "stdout",
     "output_type": "stream",
     "text": [
      "Part 1 result: 2=-1=0\n"
     ]
    }
   ],
   "source": [
    "def add_snafu(snafu1, snafu2):\n",
    "    #pad snafu\n",
    "    while len(snafu1) < len(snafu2):\n",
    "        snafu1 = '0'+snafu1\n",
    "    snafu1 = '0'+snafu1 #zero pad incase there is a carry at the end\n",
    "    while len(snafu2) < len(snafu1):\n",
    "        snafu2 = '0'+snafu2\n",
    "    \n",
    "    snafu3 = ''\n",
    "    carry = 0\n",
    "    length = min([len(snafu1), len(snafu2)])\n",
    "    \n",
    "    snafu_to_int = {'=':-2, '-':-1, '0':0, '1':1, '2':2}\n",
    "    int_to_snafu = {0:'0', 1:'1', 2:'2', 3:'=', 4:'-'}\n",
    "    to_carry = {0:0, 1:0, 2:0, 3:1, 4:1, 5:1}\n",
    "    \n",
    "    carry = 0\n",
    "    for i in range(1, length+1):\n",
    "        val = snafu_to_int[snafu1[-i]]+snafu_to_int[snafu2[-i]]+carry\n",
    "        \n",
    "        rem = val//5\n",
    "        val %= 5\n",
    "        carry = rem+to_carry[val]\n",
    "        snafu3 += int_to_snafu[val]\n",
    "        \n",
    "    #unpad number\n",
    "    while snafu3[-1] == '0':\n",
    "        snafu3 = snafu3[:-1]\n",
    "    \n",
    "    return snafu3[::-1]\n",
    "\n",
    "def run(data, part=1):\n",
    "    val = data[0].rstrip()\n",
    "    for i in range(1, len(data)):\n",
    "        val = add_snafu(val, data[i].rstrip())\n",
    "    print('Part 1 result:', val)\n",
    "        \n",
    "run(test)"
   ]
  },
  {
   "cell_type": "code",
   "execution_count": 3,
   "metadata": {},
   "outputs": [
    {
     "name": "stdout",
     "output_type": "stream",
     "text": [
      "Part 1 result: 2--1=0=-210-1=00=-=1\n"
     ]
    }
   ],
   "source": [
    "with open('day25_input.txt', 'r') as f:\n",
    "    inpt = f.readlines()\n",
    "    f.close()\n",
    "run(inpt, 1)"
   ]
  },
  {
   "cell_type": "code",
   "execution_count": null,
   "metadata": {},
   "outputs": [],
   "source": []
  }
 ],
 "metadata": {
  "kernelspec": {
   "display_name": "Python 3",
   "language": "python",
   "name": "python3"
  },
  "language_info": {
   "codemirror_mode": {
    "name": "ipython",
    "version": 3
   },
   "file_extension": ".py",
   "mimetype": "text/x-python",
   "name": "python",
   "nbconvert_exporter": "python",
   "pygments_lexer": "ipython3",
   "version": "3.8.5"
  }
 },
 "nbformat": 4,
 "nbformat_minor": 4
}
