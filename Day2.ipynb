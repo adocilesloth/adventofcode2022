{
 "cells": [
  {
   "cell_type": "code",
   "execution_count": 1,
   "metadata": {},
   "outputs": [],
   "source": [
    "import numpy as np"
   ]
  },
  {
   "cell_type": "markdown",
   "metadata": {},
   "source": [
    "# Part 1"
   ]
  },
  {
   "cell_type": "code",
   "execution_count": 2,
   "metadata": {},
   "outputs": [],
   "source": [
    "def score_games(games):\n",
    "    shape = {'X':1, 'Y':2, 'Z':3}\n",
    "    outcome = {'A X':3, 'A Y':6, 'A Z':0,\n",
    "               'B X':0, 'B Y':3, 'B Z':6,\n",
    "               'C X':6, 'C Y':0, 'C Z':3}\n",
    "    score = 0\n",
    "    for game in games:\n",
    "        score += shape[game[-1]]\n",
    "        score += outcome[game]\n",
    "    return score"
   ]
  },
  {
   "cell_type": "code",
   "execution_count": 3,
   "metadata": {},
   "outputs": [
    {
     "name": "stdout",
     "output_type": "stream",
     "text": [
      "15\n"
     ]
    }
   ],
   "source": [
    "test = ['A Y', 'B X', 'C Z']\n",
    "print(score_games(test))"
   ]
  },
  {
   "cell_type": "code",
   "execution_count": 4,
   "metadata": {},
   "outputs": [
    {
     "name": "stdout",
     "output_type": "stream",
     "text": [
      "Part 1 Result: 15632\n"
     ]
    }
   ],
   "source": [
    "inpt = np.genfromtxt('day2_input.txt', dtype=str, delimiter='\\n')\n",
    "print('Part 1 Result:', score_games(inpt))"
   ]
  },
  {
   "cell_type": "markdown",
   "metadata": {},
   "source": [
    "# Part 2"
   ]
  },
  {
   "cell_type": "code",
   "execution_count": 5,
   "metadata": {},
   "outputs": [],
   "source": [
    "def revise_system(games):\n",
    "    throw = {'X':{'A':'Z', 'B':'X', 'C':'Y'}, #lose\n",
    "             'Y':{'A':'X', 'B':'Y', 'C':'Z'}, #draw\n",
    "             'Z':{'A':'Y', 'B':'Z', 'C':'X'}} #win\n",
    "    \n",
    "    for i in range(0, len(games)):\n",
    "        move = throw[games[i][-1]][games[i][0]]\n",
    "        games[i] = games[i][:2]+move\n",
    "    return score_games(games)"
   ]
  },
  {
   "cell_type": "code",
   "execution_count": 6,
   "metadata": {},
   "outputs": [
    {
     "name": "stdout",
     "output_type": "stream",
     "text": [
      "12\n"
     ]
    }
   ],
   "source": [
    "test = ['A Y', 'B X', 'C Z']\n",
    "print(revise_system(test))"
   ]
  },
  {
   "cell_type": "code",
   "execution_count": 7,
   "metadata": {},
   "outputs": [
    {
     "name": "stdout",
     "output_type": "stream",
     "text": [
      "Part 2 Result: 14416\n"
     ]
    }
   ],
   "source": [
    "inpt = np.genfromtxt('day2_input.txt', dtype=str, delimiter='\\n')\n",
    "print('Part 2 Result:', revise_system(inpt))"
   ]
  }
 ],
 "metadata": {
  "kernelspec": {
   "display_name": "Python 3",
   "language": "python",
   "name": "python3"
  },
  "language_info": {
   "codemirror_mode": {
    "name": "ipython",
    "version": 3
   },
   "file_extension": ".py",
   "mimetype": "text/x-python",
   "name": "python",
   "nbconvert_exporter": "python",
   "pygments_lexer": "ipython3",
   "version": "3.6.9"
  }
 },
 "nbformat": 4,
 "nbformat_minor": 4
}
