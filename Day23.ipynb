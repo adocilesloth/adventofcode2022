{
 "cells": [
  {
   "cell_type": "markdown",
   "metadata": {},
   "source": [
    "# Part 1"
   ]
  },
  {
   "cell_type": "code",
   "execution_count": 1,
   "metadata": {},
   "outputs": [],
   "source": [
    "test = ['....#..',\n",
    "        '..###.#',\n",
    "        '#...#.#',\n",
    "        '.#...##',\n",
    "        '#.###..',\n",
    "        '##.#.##',\n",
    "        '.#..#..']"
   ]
  },
  {
   "cell_type": "code",
   "execution_count": 2,
   "metadata": {},
   "outputs": [],
   "source": [
    "def get_elves(data):\n",
    "    elves = {}\n",
    "    for y in range(0, len(data)):\n",
    "        data[y] = data[y].rstrip()\n",
    "        for x in range(0, len(data[y])):\n",
    "            if data[y][x] == '#':\n",
    "                elves[(x,y)] = 1\n",
    "    return elves\n",
    "\n",
    "def print_elves(elves):\n",
    "    max_xy = [-1000,-1000]\n",
    "    min_xy = [1000,1000]\n",
    "    ttl_elf = 0\n",
    "    for elf in elves.keys():\n",
    "        ttl_elf += 1\n",
    "        for i in range(0, 2):\n",
    "            if elf[i] > max_xy[i]:\n",
    "                max_xy[i] = elf[i]\n",
    "            if elf[i] < min_xy[i]:\n",
    "                min_xy[i] = elf[i]\n",
    "                \n",
    "    for y in range(min_xy[1], max_xy[1]+1):\n",
    "        string = ''\n",
    "        for x in range(min_xy[0], max_xy[0]+1):\n",
    "            if (x,y) in elves.keys():\n",
    "                string += '#'\n",
    "            else:\n",
    "                string += '.'\n",
    "        print(string)\n",
    "\n",
    "def check_movement(elves, elf, card, prop, not_moved):\n",
    "    #print(elf)\n",
    "    good = True\n",
    "    for i in range(-1, 2):\n",
    "        for j in range(-1, 2):\n",
    "            if i == 0 and j == 0:\n",
    "                continue\n",
    "            if (elf[0]+i,elf[1]+j) in elves.keys():\n",
    "                good = False\n",
    "                break\n",
    "        if good == False:\n",
    "            break\n",
    "    if good:\n",
    "        not_moved += 1\n",
    "        prop[elf] = elf\n",
    "        return prop, not_moved\n",
    "            \n",
    "    \n",
    "    for i in range(0, len(card)):\n",
    "        good = True\n",
    "        for j in range(0, len(card[i])):\n",
    "            if (elf[0]+card[i][j][0],elf[1]+card[i][j][1]) in elves.keys():\n",
    "                good = False\n",
    "                break\n",
    "        if good:\n",
    "            if (elf[0]+card[i][1][0],elf[1]+card[i][1][1]) not in prop.keys():\n",
    "                prop[(elf[0]+card[i][1][0],elf[1]+card[i][1][1])] = elf\n",
    "            else:\n",
    "                prop[elf] = elf\n",
    "                if prop[(elf[0]+card[i][1][0],elf[1]+card[i][1][1])] != False:\n",
    "                    otr_elf = prop[(elf[0]+card[i][1][0],elf[1]+card[i][1][1])]\n",
    "                    prop[otr_elf] = otr_elf\n",
    "                    prop[(elf[0]+card[i][1][0],elf[1]+card[i][1][1])] = False\n",
    "                    \n",
    "            return prop, not_moved\n",
    "    prop[elf] = elf\n",
    "    return prop, not_moved\n",
    "\n",
    "def move_elves(elves, card):\n",
    "    prop = {}\n",
    "    not_moved = 0\n",
    "    for elf in elves:\n",
    "        prop, not_moved = check_movement(elves, elf, card, prop, not_moved)\n",
    "        \n",
    "    new_elves = {}\n",
    "    count_elves = 0\n",
    "    for key in prop:\n",
    "        if prop[key] == False:\n",
    "            continue\n",
    "        new_elves[key] = 1\n",
    "        count_elves += 1\n",
    "        \n",
    "    return new_elves, not_moved != count_elves\n",
    "\n",
    "def empty_area(elves):\n",
    "    max_xy = [-1000,-1000]\n",
    "    min_xy = [1000,1000]\n",
    "    ttl_elf = 0\n",
    "    for elf in elves.keys():\n",
    "        ttl_elf += 1\n",
    "        for i in range(0, 2):\n",
    "            if elf[i] > max_xy[i]:\n",
    "                max_xy[i] = elf[i]\n",
    "            if elf[i] < min_xy[i]:\n",
    "                min_xy[i] = elf[i]\n",
    "    area = (max_xy[0]-min_xy[0]+1) * (max_xy[1]-min_xy[1]+1)\n",
    "    return area - ttl_elf\n",
    "    \n",
    "\n",
    "def run(data, n=None):\n",
    "    elves = get_elves(data)\n",
    "    card = [[[-1,-1],[0,-1],[1,-1]],\n",
    "            [[-1,1],[0,1],[1,1]],\n",
    "            [[-1,-1],[-1,0],[-1,1]],\n",
    "            [[1,-1],[1,0],[1,1]]]\n",
    "    \n",
    "    if n is not None:\n",
    "        for i in range(0, n):\n",
    "            elves, _ = move_elves(elves, card)\n",
    "            card.append(card.pop(0))\n",
    "        #print_elves(elves)\n",
    "        score = empty_area(elves)\n",
    "        print('Part 1 result:', score)\n",
    "        return\n",
    "    \n",
    "    i = 0\n",
    "    running = True\n",
    "    while running:\n",
    "        elves, running = move_elves(elves, card)\n",
    "        card.append(card.pop(0))\n",
    "        i += 1\n",
    "    #print_elves(elves)\n",
    "    print('Part 2 result:', i)"
   ]
  },
  {
   "cell_type": "code",
   "execution_count": 3,
   "metadata": {},
   "outputs": [
    {
     "name": "stdout",
     "output_type": "stream",
     "text": [
      "Part 1 result: 110\n"
     ]
    }
   ],
   "source": [
    "run(test, 10)"
   ]
  },
  {
   "cell_type": "code",
   "execution_count": 4,
   "metadata": {},
   "outputs": [
    {
     "name": "stdout",
     "output_type": "stream",
     "text": [
      "Part 1 result: 3947\n"
     ]
    }
   ],
   "source": [
    "with open('day23_input.txt', 'r') as f:\n",
    "    inpt = f.readlines()\n",
    "    f.close()\n",
    "run(inpt, 10)"
   ]
  },
  {
   "cell_type": "markdown",
   "metadata": {},
   "source": [
    "# Part 2"
   ]
  },
  {
   "cell_type": "code",
   "execution_count": 5,
   "metadata": {},
   "outputs": [
    {
     "name": "stdout",
     "output_type": "stream",
     "text": [
      "Part 2 result: 20\n"
     ]
    }
   ],
   "source": [
    "run(test)"
   ]
  },
  {
   "cell_type": "code",
   "execution_count": 6,
   "metadata": {},
   "outputs": [
    {
     "name": "stdout",
     "output_type": "stream",
     "text": [
      "Part 2 result: 1012\n"
     ]
    }
   ],
   "source": [
    "run(inpt)"
   ]
  },
  {
   "cell_type": "code",
   "execution_count": null,
   "metadata": {},
   "outputs": [],
   "source": []
  }
 ],
 "metadata": {
  "kernelspec": {
   "display_name": "Python 3",
   "language": "python",
   "name": "python3"
  },
  "language_info": {
   "codemirror_mode": {
    "name": "ipython",
    "version": 3
   },
   "file_extension": ".py",
   "mimetype": "text/x-python",
   "name": "python",
   "nbconvert_exporter": "python",
   "pygments_lexer": "ipython3",
   "version": "3.7.4"
  }
 },
 "nbformat": 4,
 "nbformat_minor": 2
}
